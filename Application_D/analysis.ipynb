{
 "cells": [
  {
   "cell_type": "code",
   "execution_count": 1,
   "id": "a25e5f75",
   "metadata": {},
   "outputs": [],
   "source": [
    "import matplotlib.pyplot as plt\n",
    "from tqdm import tqdm\n",
    "import numpy as np\n",
    "import scipy.constants as sc\n",
    "import os\n",
    "from scipy.optimize import curve_fit\n",
    "from pychromatic import Multiplot\n",
    "from pychromatic.colors import accent"
   ]
  },
  {
   "cell_type": "code",
   "execution_count": 2,
   "id": "82f74f8f",
   "metadata": {},
   "outputs": [],
   "source": [
    "ev_to_j = sc.physical_constants[\"electron volt-joule relationship\"][0]\n",
    "Av =  sc.physical_constants[\"Avogadro constant\"][0]\n",
    "A_to_m = 1E-10\n",
    "kB = sc.physical_constants[\"Boltzmann constant\"][0]"
   ]
  },
  {
   "cell_type": "markdown",
   "id": "12abdce8",
   "metadata": {},
   "source": [
    "Previously calculated MD values, can be recalculated using the script in fluctuations folder"
   ]
  },
  {
   "cell_type": "code",
   "execution_count": 16,
   "id": "85034da8",
   "metadata": {},
   "outputs": [],
   "source": [
    "temp = [600, 700, 800, 900, 1000, 1100, 1200]\n",
    "cp = [26.3, 27.0, 27.4, 27.7, 28.4, 29.0, 29.9]\n",
    "cperr = [0.3, 0.2, 0.2, 0.5, 0.4, 0.1, 0.3]"
   ]
  },
  {
   "cell_type": "markdown",
   "id": "d7c89d8c",
   "metadata": {},
   "source": [
    "Experimental cp for copper"
   ]
  },
  {
   "cell_type": "code",
   "execution_count": 17,
   "id": "8cdc4a54",
   "metadata": {},
   "outputs": [],
   "source": [
    "exptemp = [400, 450, 500, 550, 600, 650, 700, 800,900,1000, 1100, 1200, 1250, 1300]\n",
    "expcp = [25.25, 25.61, 25.91, 26.21, 26.48, 26.73, 26.99, 27.48, 28.04, 28.66, 29.48, 30.53, 31.12, 32.16]"
   ]
  },
  {
   "cell_type": "markdown",
   "id": "a4d0ab5b",
   "metadata": {},
   "source": [
    "Now get from free energy"
   ]
  },
  {
   "cell_type": "code",
   "execution_count": 6,
   "id": "eb80c020",
   "metadata": {},
   "outputs": [],
   "source": [
    "team, feam, ferream = np.loadtxt(\"free_energy/ts-FCC-400-0/temperature_sweep.dat\", unpack=True)"
   ]
  },
  {
   "cell_type": "markdown",
   "id": "5668d12f",
   "metadata": {},
   "source": [
    "## Entropy\n",
    "\n",
    "$$\n",
    "-S = \\bigg ( \\frac{dF}{dT} \\bigg )_V\n",
    "$$"
   ]
  },
  {
   "cell_type": "code",
   "execution_count": 8,
   "id": "66db3cae",
   "metadata": {},
   "outputs": [
    {
     "data": {
      "text/plain": [
       "Text(0, 0.5, 'S (eV/atom/K)')"
      ]
     },
     "execution_count": 8,
     "metadata": {},
     "output_type": "execute_result"
    },
    {
     "data": {
      "image/png": "[encoded data removed]",
      "text/plain": [
       "<Figure size 432x288 with 1 Axes>"
      ]
     },
     "metadata": {
      "needs_background": "light"
     },
     "output_type": "display_data"
    }
   ],
   "source": [
    "enteam = -np.gradient(feam, team)\n",
    "sueam = (enteam*ev_to_j)/(1/Av)\n",
    "\n",
    "plt.plot(team, sueam)\n",
    "plt.xlabel(\"Temp (K)\")\n",
    "plt.ylabel(\"S (eV/atom/K)\")"
   ]
  },
  {
   "cell_type": "markdown",
   "id": "9a3b9ed1",
   "metadata": {},
   "source": [
    "To remove the numeric noise, fit to the Shomate equation"
   ]
  },
  {
   "cell_type": "code",
   "execution_count": 9,
   "id": "e02dcff5",
   "metadata": {},
   "outputs": [],
   "source": [
    "def calc_cfit(t, a, b, c, d, e, f):\n",
    "    return a*np.log(t) + b*t - c*(t**2)/2 + d*(t**3)/2 + e/(2*t**2) + f "
   ]
  },
  {
   "cell_type": "code",
   "execution_count": 10,
   "id": "6aab62a8",
   "metadata": {},
   "outputs": [],
   "source": [
    "popteam, pcoveam = curve_fit(calc_cfit, team, sueam)"
   ]
  },
  {
   "cell_type": "markdown",
   "id": "b46267db",
   "metadata": {},
   "source": [
    "Create a range of fit temperatures"
   ]
  },
  {
   "cell_type": "code",
   "execution_count": 11,
   "id": "b02e8eb8",
   "metadata": {},
   "outputs": [],
   "source": [
    "tfit = np.linspace(600, 1201, 10000)"
   ]
  },
  {
   "cell_type": "code",
   "execution_count": 13,
   "id": "6af1afcd",
   "metadata": {},
   "outputs": [
    {
     "data": {
      "text/plain": [
       "<matplotlib.legend.Legend at 0x7f0d84693f50>"
      ]
     },
     "execution_count": 13,
     "metadata": {},
     "output_type": "execute_result"
    },
    {
     "data": {
      "image/png": "[encoded data removed]",
      "text/plain": [
       "<Figure size 432x288 with 1 Axes>"
      ]
     },
     "metadata": {
      "needs_background": "light"
     },
     "output_type": "display_data"
    }
   ],
   "source": [
    "sufiteam = calc_cfit(tfit, popteam[0], popteam[1], popteam[2], popteam[3], popteam[4], popteam[5])\n",
    "\n",
    "plt.plot(team, sueam, label=\"Sim eam\")\n",
    "plt.plot(tfit, sufiteam, label=\"fit eam\")\n",
    "plt.xlabel(\"Temp (K)\")\n",
    "plt.ylabel(\"S (J/mol K)\")\n",
    "plt.legend()"
   ]
  },
  {
   "cell_type": "markdown",
   "id": "8de42859",
   "metadata": {},
   "source": [
    "## Calculation of $c_p$ from free energy\n",
    "$$\n",
    "-S = \\bigg ( \\frac{dF}{dT} \\bigg )_V\n",
    "$$\n",
    "\n",
    "$$\n",
    "c_p = T\\bigg ( \\frac{dS}{dT} \\bigg )_p\n",
    "$$"
   ]
  },
  {
   "cell_type": "code",
   "execution_count": 14,
   "id": "2b3257c9",
   "metadata": {},
   "outputs": [],
   "source": [
    "cpeam = tfit*np.gradient(sufiteam, tfit)"
   ]
  },
  {
   "cell_type": "code",
   "execution_count": 18,
   "id": "341f8251",
   "metadata": {},
   "outputs": [
    {
     "data": {
      "image/png": "[encoded data removed]",
      "text/plain": [
       "<Figure size 298.879x239.103 with 1 Axes>"
      ]
     },
     "metadata": {
      "needs_background": "light"
     },
     "output_type": "display_data"
    }
   ],
   "source": [
    "mlt = Multiplot(width=300, ratio=0.8)\n",
    "\n",
    "mlt[0,0].plot(tfit, cpeam, color=accent[\"pred\"],\n",
    "             label=\"Eq. (14)\", zorder=10)\n",
    "mlt[0,0].errorbar(temp, cp, yerr=cperr, marker=\"o\", \n",
    "                  ls=\"\", color=accent[\"lred\"], \n",
    "                  markeredgecolor=accent[\"lgrey\"],\n",
    "                  label=\"Eq. (19)\", zorder=5)\n",
    "mlt[0,0].plot(exptemp[5:-2],expcp[5:-2], 'o', color=accent[\"pyellow\"],\n",
    "             markeredgecolor=accent[\"lgrey\"],\n",
    "             zorder=8)\n",
    "mlt[0,0].plot([1300], [1300], 'o', color=accent[\"pyellow\"],\n",
    "             markeredgecolor=accent[\"lgrey\"],\n",
    "             label=\"Experiment\", zorder=100)\n",
    "mlt[0,0].legend()\n",
    "mlt[0,0].set_xlabel(\"Temperature (K)\", fontsize=12)\n",
    "mlt[0,0].set_ylabel(r\"$C_p$ (J/mol K)\", fontsize=12)\n",
    "\n",
    "ticks = np.linspace(600, 1200, 4)\n",
    "mlt[0,0].set_xticks(ticks)\n",
    "mlt[0,0].set_xticklabels([\"%d\"%x for x in ticks], fontsize=12)\n",
    "mlt[0,0].set_xlim(570, 1230)\n",
    "mlt[0,0].set_ylim(25.5, 31.5)\n",
    "\n",
    "ticks = np.linspace(26, 31, 5)\n",
    "mlt[0,0].set_yticks(ticks)\n",
    "mlt[0,0].set_yticklabels([\"%d\"%x for x in ticks], fontsize=12)\n",
    "plt.savefig(\"cp_cu.png\", dpi=300, bbox_inches=\"tight\")"
   ]
  }
 ],
 "metadata": {
  "kernelspec": {
   "display_name": "py3",
   "language": "python",
   "name": "py3"
  },
  "language_info": {
   "codemirror_mode": {
    "name": "ipython",
    "version": 3
   },
   "file_extension": ".py",
   "mimetype": "text/x-python",
   "name": "python",
   "nbconvert_exporter": "python",
   "pygments_lexer": "ipython3",
   "version": "3.7.9"
  }
 },
 "nbformat": 4,
 "nbformat_minor": 5
}
