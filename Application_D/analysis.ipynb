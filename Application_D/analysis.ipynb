{
 "cells": [
  {
   "cell_type": "code",
   "execution_count": 1,
   "id": "edf9a825",
   "metadata": {},
   "outputs": [],
   "source": [
    "import matplotlib.pyplot as plt\n",
    "from tqdm import tqdm\n",
    "import numpy as np\n",
    "import scipy.constants as sc\n",
    "import os\n",
    "from scipy.optimize import curve_fit\n",
    "from pychromatic import Multiplot\n",
    "from pychromatic.colors import accent"
   ]
  },
  {
   "cell_type": "code",
   "execution_count": 2,
   "id": "f6f21180",
   "metadata": {},
   "outputs": [],
   "source": [
    "ev_to_j = sc.physical_constants[\"electron volt-joule relationship\"][0]\n",
    "Av =  sc.physical_constants[\"Avogadro constant\"][0]\n",
    "A_to_m = 1E-10\n",
    "kB = sc.physical_constants[\"Boltzmann constant\"][0]"
   ]
  },
  {
   "cell_type": "code",
   "execution_count": 3,
   "id": "bfa1785a",
   "metadata": {},
   "outputs": [],
   "source": [
    "def calculate_cp(folder, T, natoms=4000, mass=63.546, nsims=5):\n",
    "    cps = []\n",
    "    for i in tqdm(range(1, nsims+1)):\n",
    "        pe, ke, etotal, press, vol, temp = np.loadtxt(os.path.join(folder, \"data%d.dat\"%i), unpack=True)\n",
    "        efluct = etotal - np.mean(etotal)\n",
    "        #print(np.mean(temp), np.mean(etotal))\n",
    "        efluctsq = (efluct*ev_to_j)**2\n",
    "\n",
    "        cp = np.mean(efluctsq)/(kB*T*T)\n",
    "        #print(cp)\n",
    "        w = (natoms/Av)\n",
    "        #print(w)\n",
    "        cp = cp/w\n",
    "        cps.append(cp)\n",
    "    return np.mean(cps), np.std(cps)"
   ]
  },
  {
   "cell_type": "code",
   "execution_count": 4,
   "id": "d9875f6a",
   "metadata": {},
   "outputs": [
    {
     "name": "stderr",
     "output_type": "stream",
     "text": [
      "100%|██████████| 5/5 [00:00<00:00,  5.11it/s]\n"
     ]
    },
    {
     "data": {
      "text/plain": [
       "(26.284880437232665, 0.24833954830899133)"
      ]
     },
     "execution_count": 4,
     "metadata": {},
     "output_type": "execute_result"
    }
   ],
   "source": [
    "calculate_cp(\"fluctuations/600\", 600)"
   ]
  },
  {
   "cell_type": "code",
   "execution_count": 5,
   "id": "ecd02ea6",
   "metadata": {},
   "outputs": [
    {
     "name": "stderr",
     "output_type": "stream",
     "text": [
      "100%|██████████| 5/5 [00:00<00:00,  6.51it/s]\n"
     ]
    },
    {
     "data": {
      "text/plain": [
       "(26.951785680815345, 0.21875462061910353)"
      ]
     },
     "execution_count": 5,
     "metadata": {},
     "output_type": "execute_result"
    }
   ],
   "source": [
    "calculate_cp(\"fluctuations/700\", 700)"
   ]
  },
  {
   "cell_type": "code",
   "execution_count": 6,
   "id": "4777abbc",
   "metadata": {},
   "outputs": [
    {
     "name": "stderr",
     "output_type": "stream",
     "text": [
      "100%|██████████| 5/5 [00:00<00:00,  6.47it/s]\n"
     ]
    },
    {
     "data": {
      "text/plain": [
       "(27.394143814617838, 0.15964945659775595)"
      ]
     },
     "execution_count": 6,
     "metadata": {},
     "output_type": "execute_result"
    }
   ],
   "source": [
    "calculate_cp(\"fluctuations/800\", 800)"
   ]
  },
  {
   "cell_type": "code",
   "execution_count": 7,
   "id": "de98d16e",
   "metadata": {},
   "outputs": [
    {
     "name": "stderr",
     "output_type": "stream",
     "text": [
      "100%|██████████| 5/5 [00:00<00:00,  6.54it/s]\n"
     ]
    },
    {
     "data": {
      "text/plain": [
       "(27.730719542857848, 0.45342599667488537)"
      ]
     },
     "execution_count": 7,
     "metadata": {},
     "output_type": "execute_result"
    }
   ],
   "source": [
    "calculate_cp(\"fluctuations/900\", 900)"
   ]
  },
  {
   "cell_type": "code",
   "execution_count": 8,
   "id": "45402e04",
   "metadata": {},
   "outputs": [
    {
     "name": "stderr",
     "output_type": "stream",
     "text": [
      "100%|██████████| 5/5 [00:00<00:00,  6.61it/s]\n"
     ]
    },
    {
     "data": {
      "text/plain": [
       "(28.42951820774756, 0.44131356330384963)"
      ]
     },
     "execution_count": 8,
     "metadata": {},
     "output_type": "execute_result"
    }
   ],
   "source": [
    "calculate_cp(\"fluctuations/1000\", 1000)"
   ]
  },
  {
   "cell_type": "code",
   "execution_count": 9,
   "id": "ea08b27e",
   "metadata": {},
   "outputs": [
    {
     "name": "stderr",
     "output_type": "stream",
     "text": [
      "100%|██████████| 5/5 [00:00<00:00,  6.29it/s]\n"
     ]
    },
    {
     "data": {
      "text/plain": [
       "(28.990981036966794, 0.10499818029575433)"
      ]
     },
     "execution_count": 9,
     "metadata": {},
     "output_type": "execute_result"
    }
   ],
   "source": [
    "calculate_cp(\"fluctuations/1100\", 1100)"
   ]
  },
  {
   "cell_type": "code",
   "execution_count": 10,
   "id": "20faaf53",
   "metadata": {},
   "outputs": [
    {
     "name": "stderr",
     "output_type": "stream",
     "text": [
      "100%|██████████| 5/5 [00:00<00:00,  6.88it/s]\n"
     ]
    },
    {
     "data": {
      "text/plain": [
       "(29.93892169448203, 0.3232276908902527)"
      ]
     },
     "execution_count": 10,
     "metadata": {},
     "output_type": "execute_result"
    }
   ],
   "source": [
    "calculate_cp(\"fluctuations/1200\", 1200)"
   ]
  },
  {
   "cell_type": "code",
   "execution_count": 4,
   "id": "8dd5bee3",
   "metadata": {},
   "outputs": [],
   "source": [
    "temp = [600, 700, 800, 900, 1000, 1100, 1200]\n",
    "cp = [26.3, 27.0, 27.4, 27.7, 28.4, 29.0, 29.9]\n",
    "cperr = [0.3, 0.2, 0.2, 0.5, 0.4, 0.1, 0.3]\n",
    "exptemp = [400, 450, 500, 550, 600, 650, 700, 800,900,1000, 1100, 1200, 1250, 1300]\n",
    "expcv = [24.23, 24.44, 24.58, 24.70, 24.79, 24.87, 24.94, 25.03, 25.25, 25.30, 25.57, 25.98, 26.22, 26.80]\n",
    "expcp = [25.25, 25.61, 25.91, 26.21, 26.48, 26.73, 26.99, 27.48, 28.04, 28.66, 29.48, 30.53, 31.12, 32.16]"
   ]
  },
  {
   "cell_type": "code",
   "execution_count": 5,
   "id": "4d3b4def",
   "metadata": {},
   "outputs": [],
   "source": [
    "expcp2 = [26.464, 26.992, 27.515, 28.088, 28.820, 29.876, 31.446]"
   ]
  },
  {
   "cell_type": "code",
   "execution_count": 6,
   "id": "7094e0d1",
   "metadata": {},
   "outputs": [],
   "source": [
    "expcp3 = [26.464, 26.992, 27.515, 28.088, 28.820, 29.876, 31.446]"
   ]
  },
  {
   "cell_type": "markdown",
   "id": "bf28420b",
   "metadata": {},
   "source": [
    "Now get from free energy"
   ]
  },
  {
   "cell_type": "markdown",
   "id": "9032a79c",
   "metadata": {},
   "source": [
    "## Entropy\n",
    "\n",
    "$$\n",
    "-S = \\bigg ( \\frac{dF}{dT} \\bigg )_V\n",
    "$$"
   ]
  },
  {
   "cell_type": "code",
   "execution_count": 7,
   "id": "bc223765",
   "metadata": {},
   "outputs": [],
   "source": [
    "tace, face, ferrace = np.loadtxt(\"/home/users/menonsqr/ace_pt_phase_diagram/long_run/ts-FCC-400-0/temperature_sweep.dat\", unpack=True)\n",
    "team, feam, ferream = np.loadtxt(\"free_energy/ts-FCC-400-0/temperature_sweep.dat\", unpack=True)"
   ]
  },
  {
   "cell_type": "code",
   "execution_count": 8,
   "id": "104b9a89",
   "metadata": {},
   "outputs": [
    {
     "data": {
      "text/plain": [
       "Text(0, 0.5, 'S (eV/atom/K)')"
      ]
     },
     "execution_count": 8,
     "metadata": {},
     "output_type": "execute_result"
    },
    {
     "data": {
      "image/png": "[encoded data removed]",
      "text/plain": [
       "<Figure size 432x288 with 1 Axes>"
      ]
     },
     "metadata": {
      "needs_background": "light"
     },
     "output_type": "display_data"
    }
   ],
   "source": [
    "entace = -np.gradient(face, tace)\n",
    "suace = (entace*ev_to_j)/(1/Av)\n",
    "enteam = -np.gradient(feam, team)\n",
    "sueam = (enteam*ev_to_j)/(1/Av)\n",
    "\n",
    "plt.plot(tace, suace)\n",
    "plt.plot(team, sueam)\n",
    "plt.xlabel(\"Temp (K)\")\n",
    "plt.ylabel(\"S (eV/atom/K)\")"
   ]
  },
  {
   "cell_type": "markdown",
   "id": "87f4b597",
   "metadata": {},
   "source": [
    "To remove the noise, fit to the Shomate equation"
   ]
  },
  {
   "cell_type": "code",
   "execution_count": 9,
   "id": "8d9ebb99",
   "metadata": {},
   "outputs": [],
   "source": [
    "def calc_cfit(t, a, b, c, d, e, f):\n",
    "    return a*np.log(t) + b*t - c*(t**2)/2 + d*(t**3)/2 + e/(2*t**2) + f "
   ]
  },
  {
   "cell_type": "code",
   "execution_count": 10,
   "id": "7742def0",
   "metadata": {},
   "outputs": [],
   "source": [
    "poptace, pcovace = curve_fit(calc_cfit, tace, suace)\n",
    "popteam, pcoveam = curve_fit(calc_cfit, team, sueam)"
   ]
  },
  {
   "cell_type": "code",
   "execution_count": 11,
   "id": "85a8927c",
   "metadata": {},
   "outputs": [],
   "source": [
    "tfit = np.linspace(600, 1201, 10000)"
   ]
  },
  {
   "cell_type": "code",
   "execution_count": 12,
   "id": "3d96538e",
   "metadata": {},
   "outputs": [
    {
     "data": {
      "text/plain": [
       "<matplotlib.legend.Legend at 0x7f106c797450>"
      ]
     },
     "execution_count": 12,
     "metadata": {},
     "output_type": "execute_result"
    },
    {
     "data": {
      "image/png": "[encoded data removed]",
      "text/plain": [
       "<Figure size 432x288 with 1 Axes>"
      ]
     },
     "metadata": {
      "needs_background": "light"
     },
     "output_type": "display_data"
    }
   ],
   "source": [
    "sufitace = calc_cfit(tfit, poptace[0], poptace[1], poptace[2], poptace[3], poptace[4], poptace[5])\n",
    "sufiteam = calc_cfit(tfit, popteam[0], popteam[1], popteam[2], popteam[3], popteam[4], popteam[5])\n",
    "\n",
    "plt.plot(tace, suace, label=\"Sim ace\")\n",
    "plt.plot(tfit, sufitace, label=\"fit ace\")\n",
    "plt.plot(team, sueam, label=\"Sim eam\")\n",
    "plt.plot(tfit, sufiteam, label=\"fit eam\")\n",
    "plt.xlabel(\"Temp (K)\")\n",
    "plt.ylabel(\"S (J/mol K)\")\n",
    "plt.legend()"
   ]
  },
  {
   "cell_type": "markdown",
   "id": "e3102068",
   "metadata": {},
   "source": [
    "## Calculation of $c_p$ from free energy\n",
    "$$\n",
    "-S = \\bigg ( \\frac{dF}{dT} \\bigg )_V\n",
    "$$\n",
    "\n",
    "$$\n",
    "c_p = T\\bigg ( \\frac{dS}{dT} \\bigg )_p\n",
    "$$"
   ]
  },
  {
   "cell_type": "code",
   "execution_count": 13,
   "id": "e31167dd",
   "metadata": {},
   "outputs": [],
   "source": [
    "cpace = tfit*np.gradient(sufitace, tfit)\n",
    "cpeam = tfit*np.gradient(sufiteam, tfit)"
   ]
  },
  {
   "cell_type": "code",
   "execution_count": 15,
   "id": "dadfd2e6",
   "metadata": {},
   "outputs": [
    {
     "data": {
      "image/png": "[encoded data removed]",
      "text/plain": [
       "<Figure size 298.879x239.103 with 1 Axes>"
      ]
     },
     "metadata": {
      "needs_background": "light"
     },
     "output_type": "display_data"
    }
   ],
   "source": [
    "mlt = Multiplot(width=300, ratio=0.8)\n",
    "\n",
    "mlt[0,0].plot(tfit, cpeam, color=accent[\"pred\"],\n",
    "             label=\"Eq. (14)\", zorder=10)\n",
    "mlt[0,0].errorbar(temp, cp, yerr=cperr, marker=\"o\", \n",
    "                  ls=\"\", color=accent[\"lred\"], \n",
    "                  markeredgecolor=accent[\"lgrey\"],\n",
    "                  label=\"Eq. (19)\", zorder=5)\n",
    "mlt[0,0].plot(exptemp[5:-2],expcp[5:-2], 'o', color=accent[\"pyellow\"],\n",
    "             markeredgecolor=accent[\"lgrey\"],\n",
    "             zorder=8)\n",
    "#mlt[0,0].plot(temp, expcp2)\n",
    "mlt[0,0].plot([1300], [1300], 'o', color=accent[\"pyellow\"],\n",
    "             markeredgecolor=accent[\"lgrey\"],\n",
    "             label=\"Experiment\", zorder=100)\n",
    "\n",
    "#mlt[0,0].plot(tfit, cpace, color=accent[\"dgreen\"],\n",
    "#             label=\"Cu ACE fe\")\n",
    "mlt[0,0].legend()\n",
    "mlt[0,0].set_xlabel(\"Temperature (K)\", fontsize=12)\n",
    "mlt[0,0].set_ylabel(r\"$C_p$ (J/mol K)\", fontsize=12)\n",
    "\n",
    "ticks = np.linspace(600, 1200, 4)\n",
    "mlt[0,0].set_xticks(ticks)\n",
    "mlt[0,0].set_xticklabels([\"%d\"%x for x in ticks], fontsize=12)\n",
    "mlt[0,0].set_xlim(570, 1230)\n",
    "mlt[0,0].set_ylim(25.5, 31.5)\n",
    "\n",
    "ticks = np.linspace(26, 31, 5)\n",
    "mlt[0,0].set_yticks(ticks)\n",
    "mlt[0,0].set_yticklabels([\"%d\"%x for x in ticks], fontsize=12)\n",
    "plt.savefig(\"cp_cu.png\", dpi=300, bbox_inches=\"tight\")"
   ]
  },
  {
   "cell_type": "code",
   "execution_count": 30,
   "id": "8f70bf94",
   "metadata": {},
   "outputs": [
    {
     "data": {
      "text/plain": [
       "-3.517"
      ]
     },
     "execution_count": 30,
     "metadata": {},
     "output_type": "execute_result"
    }
   ],
   "source": [
    "-3.524+0.007"
   ]
  },
  {
   "cell_type": "code",
   "execution_count": 29,
   "id": "e52bdab8",
   "metadata": {},
   "outputs": [
    {
     "data": {
      "text/plain": [
       "-3.679"
      ]
     },
     "execution_count": 29,
     "metadata": {},
     "output_type": "execute_result"
    }
   ],
   "source": [
    "-3.686+0.007"
   ]
  }
 ],
 "metadata": {
  "kernelspec": {
   "display_name": "py3",
   "language": "python",
   "name": "py3"
  },
  "language_info": {
   "codemirror_mode": {
    "name": "ipython",
    "version": 3
   },
   "file_extension": ".py",
   "mimetype": "text/x-python",
   "name": "python",
   "nbconvert_exporter": "python",
   "pygments_lexer": "ipython3",
   "version": "3.7.9"
  }
 },
 "nbformat": 4,
 "nbformat_minor": 5
}
