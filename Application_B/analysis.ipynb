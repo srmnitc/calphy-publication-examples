{
 "cells": [
  {
   "cell_type": "markdown",
   "id": "e7123ef2",
   "metadata": {},
   "source": [
    "# Application B"
   ]
  },
  {
   "cell_type": "code",
   "execution_count": 1,
   "id": "34e52381",
   "metadata": {},
   "outputs": [],
   "source": [
    "import yaml\n",
    "import copy\n",
    "import os\n",
    "import numpy as np\n",
    "import matplotlib.pyplot as plt\n",
    "from pychromatic import Multiplot\n",
    "from pychromatic.colors import accent"
   ]
  },
  {
   "cell_type": "markdown",
   "id": "a41621d3",
   "metadata": {},
   "source": [
    "Run bcc calculations"
   ]
  },
  {
   "cell_type": "code",
   "execution_count": 3,
   "id": "c5cf8631",
   "metadata": {},
   "outputs": [],
   "source": [
    "with open(\"input.yaml\",\"r\") as fin:\n",
    "    inp = yaml.load(fin, Loader=yaml.FullLoader)"
   ]
  },
  {
   "cell_type": "markdown",
   "id": "e5c14b72",
   "metadata": {},
   "source": [
    "Modify the potential pathmax_line_width"
   ]
  },
  {
   "cell_type": "code",
   "execution_count": 4,
   "id": "ca40a8b6",
   "metadata": {},
   "outputs": [],
   "source": [
    "potential = os.path.join(os.getcwd(), \"Ti.eam.fs\")\n",
    "inp[\"md\"][\"pair_coeff\"] = \"* * %s Ti\"%potential"
   ]
  },
  {
   "cell_type": "markdown",
   "id": "41c48064",
   "metadata": {},
   "source": [
    "Now we have to add bcc specific options"
   ]
  },
  {
   "cell_type": "code",
   "execution_count": 5,
   "id": "a242db1e",
   "metadata": {},
   "outputs": [],
   "source": [
    "press = np.arange(0, 50000+2500, 2500)"
   ]
  },
  {
   "cell_type": "code",
   "execution_count": 6,
   "id": "47b7febd",
   "metadata": {},
   "outputs": [],
   "source": [
    "inp[\"calculations\"][0][\"lattice\"][0] = \"BCC\"\n",
    "inp[\"calculations\"][0][\"lattice_constant\"] = float(3.251)\n",
    "inp[\"calculations\"][0][\"temperature\"] = [int(500), int(2250)]\n",
    "inp[\"calculations\"][0][\"repeat\"] = [13, 13, 13]\n",
    "inp[\"queue\"][\"jobname\"] = \"bcc\""
   ]
  },
  {
   "cell_type": "code",
   "execution_count": 7,
   "id": "c3072e9e",
   "metadata": {},
   "outputs": [],
   "source": [
    "calcs = []\n",
    "for p in press:\n",
    "    calctemplate = inp[\"calculations\"][0].copy()\n",
    "    calctemplate[\"pressure\"] = int(p)\n",
    "    calcs.append(calctemplate)"
   ]
  },
  {
   "cell_type": "code",
   "execution_count": 8,
   "id": "03ef4c3d",
   "metadata": {},
   "outputs": [],
   "source": [
    "inp[\"calculations\"] = calcs"
   ]
  },
  {
   "cell_type": "markdown",
   "id": "dddd67c3",
   "metadata": {},
   "source": [
    "Save the input file"
   ]
  },
  {
   "cell_type": "code",
   "execution_count": 9,
   "id": "d9312b61",
   "metadata": {},
   "outputs": [],
   "source": [
    "with open(\"input-bcc.yaml\", \"w\", encoding=\"utf-8\") as fout:\n",
    "    yaml.dump(inp, fout)"
   ]
  },
  {
   "cell_type": "markdown",
   "id": "9c6ec780",
   "metadata": {},
   "source": [
    "Now for hcp structure"
   ]
  },
  {
   "cell_type": "code",
   "execution_count": 10,
   "id": "bcd3dc31",
   "metadata": {},
   "outputs": [],
   "source": [
    "with open(\"input.yaml\",\"r\") as fin:\n",
    "    inp = yaml.load(fin, Loader=yaml.FullLoader)"
   ]
  },
  {
   "cell_type": "code",
   "execution_count": 11,
   "id": "db60bd12",
   "metadata": {},
   "outputs": [],
   "source": [
    "potential = os.path.join(os.getcwd(), \"Ti.eam.fs\")\n",
    "inp[\"md\"][\"pair_coeff\"] = \"* * %s Ti\"%potential"
   ]
  },
  {
   "cell_type": "markdown",
   "id": "7f54508d",
   "metadata": {},
   "source": [
    "Now we have to add hcp specific options"
   ]
  },
  {
   "cell_type": "code",
   "execution_count": 12,
   "id": "ed85cb18",
   "metadata": {},
   "outputs": [],
   "source": [
    "inp[\"calculations\"][0][\"lattice\"][0] = \"HCP\"\n",
    "inp[\"calculations\"][0][\"temperature\"] = [int(500), int(1500)]\n",
    "inp[\"calculations\"][0][\"iso\"] = \"False\"\n",
    "inp[\"queue\"][\"jobname\"] = \"hcp\""
   ]
  },
  {
   "cell_type": "code",
   "execution_count": 13,
   "id": "c6ad905b",
   "metadata": {},
   "outputs": [],
   "source": [
    "calcs = []\n",
    "for p in press:\n",
    "    calctemplate = inp[\"calculations\"][0].copy()\n",
    "    calctemplate[\"pressure\"] = int(p)\n",
    "    calcs.append(calctemplate)"
   ]
  },
  {
   "cell_type": "code",
   "execution_count": 14,
   "id": "319e0902",
   "metadata": {},
   "outputs": [],
   "source": [
    "inp[\"calculations\"] = calcs"
   ]
  },
  {
   "cell_type": "markdown",
   "id": "4e1a9e7c",
   "metadata": {},
   "source": [
    "Save the input file"
   ]
  },
  {
   "cell_type": "code",
   "execution_count": 15,
   "id": "04954116",
   "metadata": {},
   "outputs": [],
   "source": [
    "with open(\"input-hcp.yaml\", \"w\", encoding=\"utf-8\") as fout:\n",
    "    yaml.dump(inp, fout)"
   ]
  },
  {
   "cell_type": "markdown",
   "id": "46f116f3",
   "metadata": {},
   "source": [
    "Now liquid"
   ]
  },
  {
   "cell_type": "code",
   "execution_count": 16,
   "id": "056f7002",
   "metadata": {},
   "outputs": [],
   "source": [
    "with open(\"input.yaml\",\"r\") as fin:\n",
    "    inp = yaml.load(fin, Loader=yaml.FullLoader)"
   ]
  },
  {
   "cell_type": "code",
   "execution_count": 17,
   "id": "8c188cbe",
   "metadata": {},
   "outputs": [],
   "source": [
    "potential = os.path.join(os.getcwd(), \"Ti.eam.fs\")\n",
    "inp[\"md\"][\"pair_coeff\"] = \"* * %s Ti\"%potential"
   ]
  },
  {
   "cell_type": "markdown",
   "id": "ed3d796d",
   "metadata": {},
   "source": [
    "Now we have to add hcp specific options"
   ]
  },
  {
   "cell_type": "code",
   "execution_count": 18,
   "id": "9d219217",
   "metadata": {},
   "outputs": [],
   "source": [
    "inp[\"calculations\"][0][\"lattice\"][0] = \"LQD\"\n",
    "inp[\"calculations\"][0][\"temperature\"] = [int(1500), int(3000)]\n",
    "inp[\"calculations\"][0][\"state\"] = \"liquid\"\n",
    "inp[\"queue\"][\"jobname\"] = \"lqd\""
   ]
  },
  {
   "cell_type": "code",
   "execution_count": 19,
   "id": "4772424b",
   "metadata": {},
   "outputs": [],
   "source": [
    "calcs = []\n",
    "for p in press:\n",
    "    calctemplate = inp[\"calculations\"][0].copy()\n",
    "    calctemplate[\"pressure\"] = int(p)\n",
    "    calcs.append(calctemplate)"
   ]
  },
  {
   "cell_type": "code",
   "execution_count": 20,
   "id": "071fc281",
   "metadata": {},
   "outputs": [],
   "source": [
    "inp[\"calculations\"] = calcs"
   ]
  },
  {
   "cell_type": "markdown",
   "id": "45dcf0a8",
   "metadata": {},
   "source": [
    "Save the input file"
   ]
  },
  {
   "cell_type": "code",
   "execution_count": 21,
   "id": "928bb61f",
   "metadata": {},
   "outputs": [],
   "source": [
    "with open(\"input-lqd.yaml\", \"w\", encoding=\"utf-8\") as fout:\n",
    "    yaml.dump(inp, fout)"
   ]
  },
  {
   "cell_type": "markdown",
   "id": "f5570883",
   "metadata": {},
   "source": [
    "Calculations are done, now we can extract the coexistence temperature. "
   ]
  },
  {
   "cell_type": "code",
   "execution_count": null,
   "id": "dd8cb5fc",
   "metadata": {},
   "outputs": [],
   "source": []
  }
 ],
 "metadata": {
  "kernelspec": {
   "display_name": "py3",
   "language": "python",
   "name": "py3"
  },
  "language_info": {
   "codemirror_mode": {
    "name": "ipython",
    "version": 3
   },
   "file_extension": ".py",
   "mimetype": "text/x-python",
   "name": "python",
   "nbconvert_exporter": "python",
   "pygments_lexer": "ipython3",
   "version": "3.7.9"
  }
 },
 "nbformat": 4,
 "nbformat_minor": 5
}
