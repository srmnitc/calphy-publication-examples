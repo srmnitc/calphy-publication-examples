{
 "cells": [
  {
   "cell_type": "markdown",
   "id": "72b284f9",
   "metadata": {},
   "source": [
    "# Application B"
   ]
  },
  {
   "cell_type": "code",
   "execution_count": 2,
   "id": "a1665b00",
   "metadata": {},
   "outputs": [],
   "source": [
    "import yaml\n",
    "import copy\n",
    "import os\n",
    "import numpy as np\n",
    "import matplotlib.pyplot as plt\n",
    "from pychromatic import Multiplot\n",
    "from pychromatic.colors import accent"
   ]
  },
  {
   "cell_type": "markdown",
   "id": "16b679a5",
   "metadata": {},
   "source": [
    "Run bcc calculations"
   ]
  },
  {
   "cell_type": "code",
   "execution_count": 22,
   "id": "c27e5b40",
   "metadata": {},
   "outputs": [],
   "source": [
    "with open(\"input.yaml\",\"r\") as fin:\n",
    "    inp = yaml.load(fin, Loader=yaml.FullLoader)"
   ]
  },
  {
   "cell_type": "markdown",
   "id": "f923d901",
   "metadata": {},
   "source": [
    "Modify the potential pathmax_line_width"
   ]
  },
  {
   "cell_type": "code",
   "execution_count": 23,
   "id": "91835d8c",
   "metadata": {},
   "outputs": [],
   "source": [
    "potential = os.path.join(os.getcwd(), \"Ti.eam.fs\")\n",
    "inp[\"md\"][\"pair_coeff\"] = \"* * %s Ti\"%potential"
   ]
  },
  {
   "cell_type": "markdown",
   "id": "12ad5842",
   "metadata": {},
   "source": [
    "Now we have to add bcc specific options"
   ]
  },
  {
   "cell_type": "code",
   "execution_count": 24,
   "id": "d5df4e68",
   "metadata": {},
   "outputs": [],
   "source": [
    "press = np.arange(0, 50000+2500, 2500)"
   ]
  },
  {
   "cell_type": "code",
   "execution_count": 25,
   "id": "40b243eb",
   "metadata": {},
   "outputs": [],
   "source": [
    "inp[\"calculations\"][0][\"lattice\"][0] = \"BCC\"\n",
    "inp[\"calculations\"][0][\"lattice_constant\"] = float(3.251)\n",
    "inp[\"calculations\"][0][\"temperature\"] = [int(500), int(2250)]\n",
    "inp[\"queue\"][\"jobname\"] = \"bcc\""
   ]
  },
  {
   "cell_type": "code",
   "execution_count": 26,
   "id": "5c51d278",
   "metadata": {},
   "outputs": [],
   "source": [
    "calcs = []\n",
    "for p in press:\n",
    "    calctemplate = inp[\"calculations\"][0].copy()\n",
    "    calctemplate[\"pressure\"] = int(p)\n",
    "    calcs.append(calctemplate)"
   ]
  },
  {
   "cell_type": "code",
   "execution_count": 27,
   "id": "63dd3dce",
   "metadata": {},
   "outputs": [],
   "source": [
    "inp[\"calculations\"] = calcs"
   ]
  },
  {
   "cell_type": "markdown",
   "id": "a76d34c6",
   "metadata": {},
   "source": [
    "Save the input file"
   ]
  },
  {
   "cell_type": "code",
   "execution_count": 28,
   "id": "f8b941b6",
   "metadata": {},
   "outputs": [],
   "source": [
    "with open(\"input-bcc.yaml\", \"w\", encoding=\"utf-8\") as fout:\n",
    "    yaml.dump(inp, fout)"
   ]
  },
  {
   "cell_type": "markdown",
   "id": "3ce3475b",
   "metadata": {},
   "source": [
    "Now for hcp structure"
   ]
  },
  {
   "cell_type": "code",
   "execution_count": 10,
   "id": "1ca4a6b2",
   "metadata": {},
   "outputs": [],
   "source": [
    "with open(\"input.yaml\",\"r\") as fin:\n",
    "    inp = yaml.load(fin, Loader=yaml.FullLoader)"
   ]
  },
  {
   "cell_type": "code",
   "execution_count": 11,
   "id": "cfec602f",
   "metadata": {},
   "outputs": [],
   "source": [
    "potential = os.path.join(os.getcwd(), \"Ti.eam.fs\")\n",
    "inp[\"md\"][\"pair_coeff\"] = \"* * %s Ti\"%potential"
   ]
  },
  {
   "cell_type": "markdown",
   "id": "66c7afd4",
   "metadata": {},
   "source": [
    "Now we have to add hcp specific options"
   ]
  },
  {
   "cell_type": "code",
   "execution_count": 12,
   "id": "f3e3c700",
   "metadata": {},
   "outputs": [],
   "source": [
    "inp[\"calculations\"][0][\"lattice\"][0] = \"HCP\"\n",
    "inp[\"calculations\"][0][\"temperature\"] = [int(500), int(1500)]\n",
    "inp[\"calculations\"][0][\"iso\"] = \"False\"\n",
    "inp[\"queue\"][\"jobname\"] = \"hcp\""
   ]
  },
  {
   "cell_type": "code",
   "execution_count": 13,
   "id": "052d8180",
   "metadata": {},
   "outputs": [],
   "source": [
    "calcs = []\n",
    "for p in press:\n",
    "    calctemplate = inp[\"calculations\"][0].copy()\n",
    "    calctemplate[\"pressure\"] = int(p)\n",
    "    calcs.append(calctemplate)"
   ]
  },
  {
   "cell_type": "code",
   "execution_count": 14,
   "id": "570a439f",
   "metadata": {},
   "outputs": [],
   "source": [
    "inp[\"calculations\"] = calcs"
   ]
  },
  {
   "cell_type": "markdown",
   "id": "c23d9020",
   "metadata": {},
   "source": [
    "Save the input file"
   ]
  },
  {
   "cell_type": "code",
   "execution_count": 15,
   "id": "e95abd93",
   "metadata": {},
   "outputs": [],
   "source": [
    "with open(\"input-hcp.yaml\", \"w\", encoding=\"utf-8\") as fout:\n",
    "    yaml.dump(inp, fout)"
   ]
  },
  {
   "cell_type": "markdown",
   "id": "33a2a8c8",
   "metadata": {},
   "source": [
    "Now liquid"
   ]
  },
  {
   "cell_type": "code",
   "execution_count": 16,
   "id": "797b70ab",
   "metadata": {},
   "outputs": [],
   "source": [
    "with open(\"input.yaml\",\"r\") as fin:\n",
    "    inp = yaml.load(fin, Loader=yaml.FullLoader)"
   ]
  },
  {
   "cell_type": "code",
   "execution_count": 17,
   "id": "16df8295",
   "metadata": {},
   "outputs": [],
   "source": [
    "potential = os.path.join(os.getcwd(), \"Ti.eam.fs\")\n",
    "inp[\"md\"][\"pair_coeff\"] = \"* * %s Ti\"%potential"
   ]
  },
  {
   "cell_type": "markdown",
   "id": "48a4be31",
   "metadata": {},
   "source": [
    "Now we have to add hcp specific options"
   ]
  },
  {
   "cell_type": "code",
   "execution_count": 18,
   "id": "9b04959d",
   "metadata": {},
   "outputs": [],
   "source": [
    "inp[\"calculations\"][0][\"lattice\"][0] = \"LQD\"\n",
    "inp[\"calculations\"][0][\"temperature\"] = [int(1500), int(3000)]\n",
    "inp[\"calculations\"][0][\"state\"] = \"liquid\"\n",
    "inp[\"queue\"][\"jobname\"] = \"lqd\""
   ]
  },
  {
   "cell_type": "code",
   "execution_count": 19,
   "id": "f7c9919a",
   "metadata": {},
   "outputs": [],
   "source": [
    "calcs = []\n",
    "for p in press:\n",
    "    calctemplate = inp[\"calculations\"][0].copy()\n",
    "    calctemplate[\"pressure\"] = int(p)\n",
    "    calcs.append(calctemplate)"
   ]
  },
  {
   "cell_type": "code",
   "execution_count": 20,
   "id": "5f0bf207",
   "metadata": {},
   "outputs": [],
   "source": [
    "inp[\"calculations\"] = calcs"
   ]
  },
  {
   "cell_type": "markdown",
   "id": "44432b02",
   "metadata": {},
   "source": [
    "Save the input file"
   ]
  },
  {
   "cell_type": "code",
   "execution_count": 21,
   "id": "0a136e4b",
   "metadata": {},
   "outputs": [],
   "source": [
    "with open(\"input-lqd.yaml\", \"w\", encoding=\"utf-8\") as fout:\n",
    "    yaml.dump(inp, fout)"
   ]
  },
  {
   "cell_type": "markdown",
   "id": "fd63ab7a",
   "metadata": {},
   "source": [
    "Calculations are done, now we can extract the coexistence temperature. "
   ]
  }
 ],
 "metadata": {
  "kernelspec": {
   "display_name": "py3",
   "language": "python",
   "name": "py3"
  },
  "language_info": {
   "codemirror_mode": {
    "name": "ipython",
    "version": 3
   },
   "file_extension": ".py",
   "mimetype": "text/x-python",
   "name": "python",
   "nbconvert_exporter": "python",
   "pygments_lexer": "ipython3",
   "version": "3.7.9"
  }
 },
 "nbformat": 4,
 "nbformat_minor": 5
}
