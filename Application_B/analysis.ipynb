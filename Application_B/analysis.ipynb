{
 "cells": [
  {
   "cell_type": "markdown",
   "id": "e9dd87a9",
   "metadata": {},
   "source": [
    "# Application B"
   ]
  },
  {
   "cell_type": "code",
   "execution_count": 1,
   "id": "08947156",
   "metadata": {},
   "outputs": [],
   "source": [
    "import yaml\n",
    "import copy\n",
    "import os\n",
    "import numpy as np\n",
    "import matplotlib.pyplot as plt\n",
    "from pychromatic import Multiplot\n",
    "from pychromatic.colors import accent"
   ]
  },
  {
   "cell_type": "markdown",
   "id": "26b3e926",
   "metadata": {},
   "source": [
    "Run bcc calculations"
   ]
  },
  {
   "cell_type": "code",
   "execution_count": 2,
   "id": "bc3326b3",
   "metadata": {},
   "outputs": [],
   "source": [
    "with open(\"input.yaml\",\"r\") as fin:\n",
    "    inp = yaml.load(fin, Loader=yaml.FullLoader)"
   ]
  },
  {
   "cell_type": "markdown",
   "id": "06b8d986",
   "metadata": {},
   "source": [
    "Modify the potential pathmax_line_width"
   ]
  },
  {
   "cell_type": "code",
   "execution_count": 3,
   "id": "4be6a0c0",
   "metadata": {},
   "outputs": [],
   "source": [
    "potential = os.path.join(os.getcwd(), \"Ti.eam.fs\")\n",
    "inp[\"md\"][\"pair_coeff\"] = \"* * %s Ti\"%potential"
   ]
  },
  {
   "cell_type": "markdown",
   "id": "208e1a55",
   "metadata": {},
   "source": [
    "Now we have to add bcc specific options"
   ]
  },
  {
   "cell_type": "code",
   "execution_count": 4,
   "id": "ca2a71e5",
   "metadata": {},
   "outputs": [],
   "source": [
    "press = np.arange(0, 50000+2500, 2500)"
   ]
  },
  {
   "cell_type": "code",
   "execution_count": 5,
   "id": "49d8af1f",
   "metadata": {},
   "outputs": [],
   "source": [
    "inp[\"calculations\"][0][\"lattice\"][0] = \"BCC\"\n",
    "inp[\"calculations\"][0][\"lattice_constant\"] = float(3.251)\n",
    "inp[\"calculations\"][0][\"temperature\"] = int(500)\n",
    "inp[\"queue\"][\"jobname\"] = \"bcc\""
   ]
  },
  {
   "cell_type": "code",
   "execution_count": 6,
   "id": "bb1312eb",
   "metadata": {},
   "outputs": [],
   "source": [
    "calcs = []\n",
    "for p in press:\n",
    "    calctemplate = inp[\"calculations\"][0].copy()\n",
    "    calctemplate[\"pressure\"] = int(p)\n",
    "    calcs.append(calctemplate)"
   ]
  },
  {
   "cell_type": "code",
   "execution_count": 7,
   "id": "2a72d262",
   "metadata": {},
   "outputs": [],
   "source": [
    "inp[\"calculations\"] = calcs"
   ]
  },
  {
   "cell_type": "markdown",
   "id": "673cf6e1",
   "metadata": {},
   "source": [
    "Save the input file"
   ]
  },
  {
   "cell_type": "code",
   "execution_count": 9,
   "id": "bfa65093",
   "metadata": {},
   "outputs": [],
   "source": [
    "with open(\"input-bcc.yaml\", \"w\", encoding=\"utf-8\") as fout:\n",
    "    yaml.dump(inp, fout)"
   ]
  },
  {
   "cell_type": "markdown",
   "id": "d66e3d83",
   "metadata": {},
   "source": [
    "Now for hcp structure"
   ]
  },
  {
   "cell_type": "code",
   "execution_count": 14,
   "id": "d46f4fc9",
   "metadata": {},
   "outputs": [],
   "source": [
    "with open(\"input.yaml\",\"r\") as fin:\n",
    "    inp = yaml.load(fin, Loader=yaml.FullLoader)"
   ]
  },
  {
   "cell_type": "code",
   "execution_count": 15,
   "id": "08528554",
   "metadata": {},
   "outputs": [],
   "source": [
    "potential = os.path.join(os.getcwd(), \"Ti.eam.fs\")\n",
    "inp[\"md\"][\"pair_coeff\"] = \"* * %s Ti\"%potential"
   ]
  },
  {
   "cell_type": "markdown",
   "id": "a677575c",
   "metadata": {},
   "source": [
    "Now we have to add hcp specific options"
   ]
  },
  {
   "cell_type": "code",
   "execution_count": 16,
   "id": "761255ae",
   "metadata": {},
   "outputs": [],
   "source": [
    "inp[\"calculations\"][0][\"lattice\"][0] = \"HCP\"\n",
    "inp[\"calculations\"][0][\"temperature\"] = int(500)\n",
    "inp[\"calculations\"][0][\"iso\"] = \"False\"\n",
    "inp[\"queue\"][\"jobname\"] = \"hcp\""
   ]
  },
  {
   "cell_type": "code",
   "execution_count": 17,
   "id": "e41818de",
   "metadata": {},
   "outputs": [],
   "source": [
    "calcs = []\n",
    "for p in press:\n",
    "    calctemplate = inp[\"calculations\"][0].copy()\n",
    "    calctemplate[\"pressure\"] = int(p)\n",
    "    calcs.append(calctemplate)"
   ]
  },
  {
   "cell_type": "code",
   "execution_count": 18,
   "id": "457c416e",
   "metadata": {},
   "outputs": [],
   "source": [
    "inp[\"calculations\"] = calcs"
   ]
  },
  {
   "cell_type": "markdown",
   "id": "3a375bc5",
   "metadata": {},
   "source": [
    "Save the input file"
   ]
  },
  {
   "cell_type": "code",
   "execution_count": 19,
   "id": "8f368608",
   "metadata": {},
   "outputs": [],
   "source": [
    "with open(\"input-hcp.yaml\", \"w\", encoding=\"utf-8\") as fout:\n",
    "    yaml.dump(inp, fout)"
   ]
  },
  {
   "cell_type": "markdown",
   "id": "1fb9feaa",
   "metadata": {},
   "source": [
    "Now liquid"
   ]
  },
  {
   "cell_type": "code",
   "execution_count": 20,
   "id": "a5763440",
   "metadata": {},
   "outputs": [],
   "source": [
    "with open(\"input.yaml\",\"r\") as fin:\n",
    "    inp = yaml.load(fin, Loader=yaml.FullLoader)"
   ]
  },
  {
   "cell_type": "code",
   "execution_count": 21,
   "id": "1c54d3fd",
   "metadata": {},
   "outputs": [],
   "source": [
    "potential = os.path.join(os.getcwd(), \"Ti.eam.fs\")\n",
    "inp[\"md\"][\"pair_coeff\"] = \"* * %s Ti\"%potential"
   ]
  },
  {
   "cell_type": "markdown",
   "id": "1c275765",
   "metadata": {},
   "source": [
    "Now we have to add hcp specific options"
   ]
  },
  {
   "cell_type": "code",
   "execution_count": 22,
   "id": "6869d3c7",
   "metadata": {},
   "outputs": [],
   "source": [
    "inp[\"calculations\"][0][\"lattice\"][0] = \"LQD\"\n",
    "inp[\"calculations\"][0][\"temperature\"] = int(1500)\n",
    "inp[\"calculations\"][0][\"state\"] = \"liquid\"\n",
    "inp[\"queue\"][\"jobname\"] = \"lqd\""
   ]
  },
  {
   "cell_type": "code",
   "execution_count": 23,
   "id": "973ed779",
   "metadata": {},
   "outputs": [],
   "source": [
    "calcs = []\n",
    "for p in press:\n",
    "    calctemplate = inp[\"calculations\"][0].copy()\n",
    "    calctemplate[\"pressure\"] = int(p)\n",
    "    calcs.append(calctemplate)"
   ]
  },
  {
   "cell_type": "code",
   "execution_count": 24,
   "id": "9a5ca5c5",
   "metadata": {},
   "outputs": [],
   "source": [
    "inp[\"calculations\"] = calcs"
   ]
  },
  {
   "cell_type": "markdown",
   "id": "f3cf01ae",
   "metadata": {},
   "source": [
    "Save the input file"
   ]
  },
  {
   "cell_type": "code",
   "execution_count": 25,
   "id": "d4e90a75",
   "metadata": {},
   "outputs": [],
   "source": [
    "with open(\"input-lqd.yaml\", \"w\", encoding=\"utf-8\") as fout:\n",
    "    yaml.dump(inp, fout)"
   ]
  }
 ],
 "metadata": {
  "kernelspec": {
   "display_name": "py3",
   "language": "python",
   "name": "py3"
  },
  "language_info": {
   "codemirror_mode": {
    "name": "ipython",
    "version": 3
   },
   "file_extension": ".py",
   "mimetype": "text/x-python",
   "name": "python",
   "nbconvert_exporter": "python",
   "pygments_lexer": "ipython3",
   "version": "3.7.9"
  }
 },
 "nbformat": 4,
 "nbformat_minor": 5
}
