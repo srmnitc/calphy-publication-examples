{
 "cells": [
  {
   "cell_type": "markdown",
   "id": "a798ae88",
   "metadata": {},
   "source": [
    "# Application B"
   ]
  },
  {
   "cell_type": "code",
   "execution_count": 9,
   "id": "75ef7285",
   "metadata": {},
   "outputs": [],
   "source": [
    "import yaml\n",
    "import copy\n",
    "import os\n",
    "import numpy as np\n",
    "import matplotlib.pyplot as plt\n",
    "from pychromatic import Multiplot\n",
    "from pychromatic.colors import accent\n",
    "from tqdm.notebook import trange"
   ]
  },
  {
   "cell_type": "markdown",
   "id": "592b9a7e",
   "metadata": {},
   "source": [
    "Run bcc calculations"
   ]
  },
  {
   "cell_type": "code",
   "execution_count": 3,
   "id": "2c4a7b8d",
   "metadata": {},
   "outputs": [],
   "source": [
    "with open(\"input.yaml\",\"r\") as fin:\n",
    "    inp = yaml.load(fin, Loader=yaml.FullLoader)"
   ]
  },
  {
   "cell_type": "markdown",
   "id": "e7e7b170",
   "metadata": {},
   "source": [
    "Modify the potential pathmax_line_width"
   ]
  },
  {
   "cell_type": "code",
   "execution_count": 4,
   "id": "2c31e764",
   "metadata": {},
   "outputs": [],
   "source": [
    "potential = os.path.join(os.getcwd(), \"Ti.eam.fs\")\n",
    "inp[\"md\"][\"pair_coeff\"] = \"* * %s Ti\"%potential"
   ]
  },
  {
   "cell_type": "markdown",
   "id": "56a72282",
   "metadata": {},
   "source": [
    "Now we have to add bcc specific options"
   ]
  },
  {
   "cell_type": "code",
   "execution_count": 2,
   "id": "73504d7a",
   "metadata": {},
   "outputs": [],
   "source": [
    "press = np.arange(0, 50000+2500, 2500)"
   ]
  },
  {
   "cell_type": "code",
   "execution_count": 6,
   "id": "8fe55f21",
   "metadata": {},
   "outputs": [],
   "source": [
    "inp[\"calculations\"][0][\"lattice\"][0] = \"BCC\"\n",
    "inp[\"calculations\"][0][\"lattice_constant\"] = float(3.251)\n",
    "inp[\"calculations\"][0][\"temperature\"] = [int(500), int(2250)]\n",
    "inp[\"calculations\"][0][\"repeat\"] = [13, 13, 13]\n",
    "inp[\"queue\"][\"jobname\"] = \"bcc\""
   ]
  },
  {
   "cell_type": "code",
   "execution_count": 7,
   "id": "09637fb9",
   "metadata": {},
   "outputs": [],
   "source": [
    "calcs = []\n",
    "for p in press:\n",
    "    calctemplate = inp[\"calculations\"][0].copy()\n",
    "    calctemplate[\"pressure\"] = int(p)\n",
    "    calcs.append(calctemplate)"
   ]
  },
  {
   "cell_type": "code",
   "execution_count": 8,
   "id": "4dc63994",
   "metadata": {},
   "outputs": [],
   "source": [
    "inp[\"calculations\"] = calcs"
   ]
  },
  {
   "cell_type": "markdown",
   "id": "c199eb0f",
   "metadata": {},
   "source": [
    "Save the input file"
   ]
  },
  {
   "cell_type": "code",
   "execution_count": 9,
   "id": "1fecdc25",
   "metadata": {},
   "outputs": [],
   "source": [
    "with open(\"input-bcc.yaml\", \"w\", encoding=\"utf-8\") as fout:\n",
    "    yaml.dump(inp, fout)"
   ]
  },
  {
   "cell_type": "markdown",
   "id": "35f1f531",
   "metadata": {},
   "source": [
    "Now for hcp structure"
   ]
  },
  {
   "cell_type": "code",
   "execution_count": 10,
   "id": "6d9f9171",
   "metadata": {},
   "outputs": [],
   "source": [
    "with open(\"input.yaml\",\"r\") as fin:\n",
    "    inp = yaml.load(fin, Loader=yaml.FullLoader)"
   ]
  },
  {
   "cell_type": "code",
   "execution_count": 11,
   "id": "77d6da30",
   "metadata": {},
   "outputs": [],
   "source": [
    "potential = os.path.join(os.getcwd(), \"Ti.eam.fs\")\n",
    "inp[\"md\"][\"pair_coeff\"] = \"* * %s Ti\"%potential"
   ]
  },
  {
   "cell_type": "markdown",
   "id": "c56f8c90",
   "metadata": {},
   "source": [
    "Now we have to add hcp specific options"
   ]
  },
  {
   "cell_type": "code",
   "execution_count": 12,
   "id": "5a281e15",
   "metadata": {},
   "outputs": [],
   "source": [
    "inp[\"calculations\"][0][\"lattice\"][0] = \"HCP\"\n",
    "inp[\"calculations\"][0][\"temperature\"] = [int(500), int(1500)]\n",
    "inp[\"calculations\"][0][\"iso\"] = \"False\"\n",
    "inp[\"queue\"][\"jobname\"] = \"hcp\""
   ]
  },
  {
   "cell_type": "code",
   "execution_count": 13,
   "id": "dba4e1fc",
   "metadata": {},
   "outputs": [],
   "source": [
    "calcs = []\n",
    "for p in press:\n",
    "    calctemplate = inp[\"calculations\"][0].copy()\n",
    "    calctemplate[\"pressure\"] = int(p)\n",
    "    calcs.append(calctemplate)"
   ]
  },
  {
   "cell_type": "code",
   "execution_count": 14,
   "id": "4babb697",
   "metadata": {},
   "outputs": [],
   "source": [
    "inp[\"calculations\"] = calcs"
   ]
  },
  {
   "cell_type": "markdown",
   "id": "562aeb5f",
   "metadata": {},
   "source": [
    "Save the input file"
   ]
  },
  {
   "cell_type": "code",
   "execution_count": 15,
   "id": "49e6a6d0",
   "metadata": {},
   "outputs": [],
   "source": [
    "with open(\"input-hcp.yaml\", \"w\", encoding=\"utf-8\") as fout:\n",
    "    yaml.dump(inp, fout)"
   ]
  },
  {
   "cell_type": "markdown",
   "id": "bfd809ce",
   "metadata": {},
   "source": [
    "Now liquid"
   ]
  },
  {
   "cell_type": "code",
   "execution_count": 16,
   "id": "c6663783",
   "metadata": {},
   "outputs": [],
   "source": [
    "with open(\"input.yaml\",\"r\") as fin:\n",
    "    inp = yaml.load(fin, Loader=yaml.FullLoader)"
   ]
  },
  {
   "cell_type": "code",
   "execution_count": 17,
   "id": "478b2be7",
   "metadata": {},
   "outputs": [],
   "source": [
    "potential = os.path.join(os.getcwd(), \"Ti.eam.fs\")\n",
    "inp[\"md\"][\"pair_coeff\"] = \"* * %s Ti\"%potential"
   ]
  },
  {
   "cell_type": "markdown",
   "id": "9e4f6878",
   "metadata": {},
   "source": [
    "Now we have to add hcp specific options"
   ]
  },
  {
   "cell_type": "code",
   "execution_count": 18,
   "id": "7161bc84",
   "metadata": {},
   "outputs": [],
   "source": [
    "inp[\"calculations\"][0][\"lattice\"][0] = \"LQD\"\n",
    "inp[\"calculations\"][0][\"temperature\"] = [int(1500), int(3000)]\n",
    "inp[\"calculations\"][0][\"state\"] = \"liquid\"\n",
    "inp[\"queue\"][\"jobname\"] = \"lqd\""
   ]
  },
  {
   "cell_type": "code",
   "execution_count": 19,
   "id": "b6daf64b",
   "metadata": {},
   "outputs": [],
   "source": [
    "calcs = []\n",
    "for p in press:\n",
    "    calctemplate = inp[\"calculations\"][0].copy()\n",
    "    calctemplate[\"pressure\"] = int(p)\n",
    "    calcs.append(calctemplate)"
   ]
  },
  {
   "cell_type": "code",
   "execution_count": 20,
   "id": "5c82cbd5",
   "metadata": {},
   "outputs": [],
   "source": [
    "inp[\"calculations\"] = calcs"
   ]
  },
  {
   "cell_type": "markdown",
   "id": "0e0f1710",
   "metadata": {},
   "source": [
    "Save the input file"
   ]
  },
  {
   "cell_type": "code",
   "execution_count": 21,
   "id": "ffea1ffc",
   "metadata": {},
   "outputs": [],
   "source": [
    "with open(\"input-lqd.yaml\", \"w\", encoding=\"utf-8\") as fout:\n",
    "    yaml.dump(inp, fout)"
   ]
  },
  {
   "cell_type": "markdown",
   "id": "b80acc5a",
   "metadata": {},
   "source": [
    "Calculations are done, now we can extract the coexistence temperature. "
   ]
  },
  {
   "cell_type": "markdown",
   "id": "e567628e",
   "metadata": {},
   "source": [
    "Get transformation temps:"
   ]
  },
  {
   "cell_type": "markdown",
   "id": "a95e55eb",
   "metadata": {},
   "source": [
    "Go over same pressure ranges"
   ]
  },
  {
   "cell_type": "code",
   "execution_count": 6,
   "id": "2a66aee9",
   "metadata": {},
   "outputs": [],
   "source": [
    "mts = np.load(\"dcc.npy\", allow_pickle=True).flatten()[0]"
   ]
  },
  {
   "cell_type": "markdown",
   "id": "6671df86",
   "metadata": {},
   "source": [
    "Now we have the lines, we need to gether free energies and apply the mask"
   ]
  },
  {
   "cell_type": "markdown",
   "id": "07553e97",
   "metadata": {},
   "source": [
    "HCP"
   ]
  },
  {
   "cell_type": "code",
   "execution_count": 16,
   "id": "204fd8ab",
   "metadata": {},
   "outputs": [
    {
     "data": {
      "application/vnd.jupyter.widget-view+json": {
       "model_id": "dc1924e04b234bc59efe01dc1ab1bf44",
       "version_major": 2,
       "version_minor": 0
      },
      "text/plain": [
       "  0%|          | 0/21 [00:00<?, ?it/s]"
      ]
     },
     "metadata": {},
     "output_type": "display_data"
    }
   ],
   "source": [
    "fharr = []\n",
    "fhmask = []\n",
    "\n",
    "for d in trange(len(press)):\n",
    "    p = press[d]\n",
    "    t1 = 500\n",
    "    #we have to find t2\n",
    "    px = mts['hcp-bcc']['press']\n",
    "    tx = mts['hcp-bcc']['temp']\n",
    "    #find where p == px\n",
    "    arg = np.argsort(np.abs(px-p))[0]\n",
    "    t2 = tx[arg]\n",
    "    #fetch free energies\n",
    "    file = \"ts-HCP-500-%d/temperature_sweep.dat\"%(int(p))\n",
    "    t, f = np.loadtxt(file, unpack=True, usecols=(0,1))\n",
    "    thcp = t\n",
    "    marr = np.ones(len(f))\n",
    "    \n",
    "    for c, fx in enumerate(f):\n",
    "        if t1<= t[c] <= t2:\n",
    "            marr[c] = False\n",
    "    \n",
    "    fharr.append(f)\n",
    "    fhmask.append(marr)"
   ]
  },
  {
   "cell_type": "code",
   "execution_count": 17,
   "id": "f7b526d2",
   "metadata": {},
   "outputs": [],
   "source": [
    "fharr = np.column_stack(fharr)\n",
    "fhmask = np.column_stack(fhmask)\n",
    "fharrm = np.ma.array(fharr, mask=fhmask)"
   ]
  },
  {
   "cell_type": "code",
   "execution_count": 18,
   "id": "616076f8",
   "metadata": {},
   "outputs": [
    {
     "data": {
      "text/plain": [
       "<matplotlib.contour.QuadContourSet at 0x7feb9fe73ad0>"
      ]
     },
     "execution_count": 18,
     "metadata": {},
     "output_type": "execute_result"
    },
    {
     "data": {
      "image/png": "[encoded data removed]",
      "text/plain": [
       "<Figure size 432x288 with 1 Axes>"
      ]
     },
     "metadata": {
      "needs_background": "light"
     },
     "output_type": "display_data"
    }
   ],
   "source": [
    "plt.contourf(press, thcp, fharrm, levels=100)"
   ]
  },
  {
   "cell_type": "markdown",
   "id": "1fde556a",
   "metadata": {},
   "source": [
    "BCC"
   ]
  },
  {
   "cell_type": "code",
   "execution_count": 19,
   "id": "5df16b2b",
   "metadata": {},
   "outputs": [
    {
     "data": {
      "application/vnd.jupyter.widget-view+json": {
       "model_id": "630447308d654f0182789f5176d03009",
       "version_major": 2,
       "version_minor": 0
      },
      "text/plain": [
       "  0%|          | 0/21 [00:00<?, ?it/s]"
      ]
     },
     "metadata": {},
     "output_type": "display_data"
    }
   ],
   "source": [
    "fbarr = []\n",
    "fbmask = []\n",
    "\n",
    "for d in trange(len(press)):\n",
    "    p = press[d]\n",
    "    #we have to calculate t1\n",
    "    px = mts['hcp-bcc']['press']\n",
    "    tx = mts['hcp-bcc']['temp']\n",
    "    #find where p == px\n",
    "    arg = np.argsort(np.abs(px-p))[0]\n",
    "    t1 = tx[arg]\n",
    "    \n",
    "    #we have to find t2\n",
    "    px = mts['bcc-lqd']['press']\n",
    "    tx = mts['bcc-lqd']['temp']\n",
    "    #find where p == px\n",
    "    arg = np.argsort(np.abs(px-p))[0]\n",
    "    t2 = tx[arg]\n",
    "    \n",
    "    #fetch free energies\n",
    "    file = \"ts-BCC-500-%d/temperature_sweep.dat\"%(int(p))\n",
    "    t, f = np.loadtxt(file, unpack=True, usecols=(0,1))\n",
    "    tbcc = t\n",
    "    marr = np.ones(len(f))\n",
    "    \n",
    "    for c, fx in enumerate(f):\n",
    "        if t1<= t[c] <= t2:\n",
    "            marr[c] = False\n",
    "    \n",
    "    fbarr.append(f)\n",
    "    fbmask.append(marr)"
   ]
  },
  {
   "cell_type": "code",
   "execution_count": 20,
   "id": "ec91288e",
   "metadata": {},
   "outputs": [],
   "source": [
    "fbarr = np.column_stack(fbarr)\n",
    "fbmask = np.column_stack(fbmask)\n",
    "fbarrm = np.ma.array(fbarr, mask=fbmask)"
   ]
  },
  {
   "cell_type": "code",
   "execution_count": 21,
   "id": "39619570",
   "metadata": {},
   "outputs": [
    {
     "data": {
      "text/plain": [
       "<matplotlib.contour.QuadContourSet at 0x7feb9fda79d0>"
      ]
     },
     "execution_count": 21,
     "metadata": {},
     "output_type": "execute_result"
    },
    {
     "data": {
      "image/png": "[encoded data removed]",
      "text/plain": [
       "<Figure size 432x288 with 1 Axes>"
      ]
     },
     "metadata": {
      "needs_background": "light"
     },
     "output_type": "display_data"
    }
   ],
   "source": [
    "plt.contourf(press, tbcc, fbarrm, levels=100)"
   ]
  },
  {
   "cell_type": "markdown",
   "id": "96420d71",
   "metadata": {},
   "source": [
    "LQD"
   ]
  },
  {
   "cell_type": "code",
   "execution_count": 22,
   "id": "c4d8092d",
   "metadata": {},
   "outputs": [
    {
     "data": {
      "application/vnd.jupyter.widget-view+json": {
       "model_id": "4dbce8224ba84bc1ae84b63238935227",
       "version_major": 2,
       "version_minor": 0
      },
      "text/plain": [
       "  0%|          | 0/21 [00:00<?, ?it/s]"
      ]
     },
     "metadata": {},
     "output_type": "display_data"
    }
   ],
   "source": [
    "flarr = []\n",
    "flmask = []\n",
    "\n",
    "for d in trange(len(press)):\n",
    "    p = press[d]\n",
    "    #we have to calculate t1\n",
    "    px = mts['bcc-lqd']['press']\n",
    "    tx = mts['bcc-lqd']['temp']\n",
    "    #find where p == px\n",
    "    arg = np.argsort(np.abs(px-p))[0]\n",
    "    t1 = tx[arg]\n",
    "    \n",
    "    #we have to find t2\n",
    "    t2 = 3000\n",
    "    \n",
    "    #fetch free energies\n",
    "    file = \"ts-LQD-1500-%d/temperature_sweep.dat\"%(int(p))\n",
    "    t, f = np.loadtxt(file, unpack=True, usecols=(0,1))\n",
    "    tlqd = t\n",
    "    marr = np.ones(len(f))\n",
    "    \n",
    "    for c, fx in enumerate(f):\n",
    "        if t1<= t[c] <= t2:\n",
    "            marr[c] = False\n",
    "    \n",
    "    flarr.append(f)\n",
    "    flmask.append(marr)"
   ]
  },
  {
   "cell_type": "code",
   "execution_count": 23,
   "id": "a8f59c4e",
   "metadata": {},
   "outputs": [],
   "source": [
    "flarr = np.column_stack(flarr)\n",
    "flmask = np.column_stack(flmask)\n",
    "flarrm = np.ma.array(flarr, mask=flmask)"
   ]
  },
  {
   "cell_type": "code",
   "execution_count": 24,
   "id": "b21942ee",
   "metadata": {},
   "outputs": [
    {
     "data": {
      "text/plain": [
       "<matplotlib.contour.QuadContourSet at 0x7feba42b2310>"
      ]
     },
     "execution_count": 24,
     "metadata": {},
     "output_type": "execute_result"
    },
    {
     "data": {
      "image/png": "[encoded data removed]",
      "text/plain": [
       "<Figure size 432x288 with 1 Axes>"
      ]
     },
     "metadata": {
      "needs_background": "light"
     },
     "output_type": "display_data"
    }
   ],
   "source": [
    "plt.contourf(press, tlqd, flarrm, levels=100)"
   ]
  },
  {
   "cell_type": "code",
   "execution_count": 43,
   "id": "3ae6b857",
   "metadata": {},
   "outputs": [],
   "source": [
    "pmainlist = [0, 10000, 20000, 30000, 40000, 50000]\n",
    "bh_temp = [1158, 1130, 1101, 1086, 1065, 1030]\n",
    "bl_temp = [1913, 1948, 2000, 2098, 2114, 2152]"
   ]
  },
  {
   "cell_type": "code",
   "execution_count": 45,
   "id": "bc324d7c",
   "metadata": {},
   "outputs": [
    {
     "data": {
      "image/png": "[encoded data removed]",
      "text/plain": [
       "<Figure size 249.066x323.786 with 1 Axes>"
      ]
     },
     "metadata": {
      "needs_background": "light"
     },
     "output_type": "display_data"
    }
   ],
   "source": [
    "mlt = Multiplot(columns=1, rows=1, width=250, ratio=1.3)\n",
    "\n",
    "a = mlt[0,0].contourf(press, tbcc, fbarrm, levels=100, cmap=\"Reds_r\")\n",
    "b = mlt[0,0].contourf(press, thcp, fharrm, levels=100, cmap=\"Greens_r\")\n",
    "c = mlt[0,0].contourf(press, tlqd, flarrm, levels=100, cmap=\"Blues_r\")\n",
    "\n",
    "mlt[0,0].plot(mts['hcp-bcc']['press'], mts['hcp-bcc']['temp'], color=accent[\"dgrey\"])\n",
    "mlt[0,0].plot(mts['bcc-lqd']['press'], mts['bcc-lqd']['temp'], color=accent[\"dgrey\"])\n",
    "\n",
    "mlt[0,0].set_xlim(0, 50000)\n",
    "mlt[0,0].set_ylim(500, 3000)\n",
    "\n",
    "mlt[0,0].plot(pmainlist, bh_temp, 'o', color=accent[\"pgrey\"],\n",
    "             markeredgecolor=accent[\"dgrey\"])\n",
    "mlt[0,0].plot(pmainlist, bl_temp, 'o', color=accent[\"pgrey\"],\n",
    "             markeredgecolor=accent[\"dgrey\"])\n",
    "mlt[0,0].text(20000, 2500, \"Liquid\", fontsize=12)\n",
    "mlt[0,0].text(22000, 1500, \"BCC\", fontsize=12)\n",
    "mlt[0,0].text(22000, 750, \"HCP\", fontsize=12)\n",
    "\n",
    "mlt[0,0].set_xticks(np.arange(0, 60000, 10000))\n",
    "mlt[0,0].set_xticklabels(np.arange(0, 60000, 10000)/10000)\n",
    "mlt[0,0].set_xlabel(\"Pressure (GPa)\")\n",
    "mlt[0,0].set_ylabel(\"Temperature (K)\")\n",
    "#mlt[0,0].legend()\n",
    "plt.savefig(\"phase_dia_ti.png\", dpi=300, bbox_inches=\"tight\")"
   ]
  }
 ],
 "metadata": {
  "kernelspec": {
   "display_name": "py3",
   "language": "python",
   "name": "py3"
  },
  "language_info": {
   "codemirror_mode": {
    "name": "ipython",
    "version": 3
   },
   "file_extension": ".py",
   "mimetype": "text/x-python",
   "name": "python",
   "nbconvert_exporter": "python",
   "pygments_lexer": "ipython3",
   "version": "3.7.9"
  }
 },
 "nbformat": 4,
 "nbformat_minor": 5
}
