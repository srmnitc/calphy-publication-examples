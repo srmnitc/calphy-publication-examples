{
 "cells": [
  {
   "cell_type": "markdown",
   "id": "916755c2",
   "metadata": {},
   "source": [
    "# EAM ZrCu system\n",
    "\n",
    "In this notebook, we will calculate the free energy of a binary ZrCu system. The first system that will be considered is ZrCu with a B2 structure, followed by $\\mathrm{Zr}_2\\mathrm{Cu}$ with $C11_b$ structure. The potential that will be used is-\n",
    "\n",
    "[M.I. Mendelev , M.J. Kramer , R.T. Ott , D.J. Sordelet , D. Yagodin & P. Popel (2009) Development of suitable interatomic potentials for simulation of liquid and amorphous Cu–Zr alloys, Philosophical Magazine, 89:11, 967-987](http://dx.doi.org/10.1080/14786430902832773)\n",
    "\n",
    "To compare our results, we will use the data from this publication:\n",
    "\n",
    "[Tang, C, and Peter Harrowell. “Predicting the Solid State Phase Diagram for Glass-Forming Alloys of Copper and Zirconium.” Journal of Physics: Condensed Matter 24, no. 24 (June 20, 2012): 245102.](https://doi.org/10.1088/0953-8984/24/24/245102)"
   ]
  },
  {
   "cell_type": "markdown",
   "id": "7c2afb9a",
   "metadata": {},
   "source": [
    "The input file for the ZrCu system is in the folder of the same name. The input file is shown below:\n",
    "\n",
    "```\n",
    "element: ['Zr', 'Cu']\n",
    "mass: [91.224, 63.546]\n",
    "calculations:\n",
    "- mode: ts \n",
    "  temperature: [300, 900]\n",
    "  pressure: [0]\n",
    "  lattice: [/home/users/menonsqr/Repos/pytint/examples/ZrCu_EAM/ZrCu/ZrCu.data]\n",
    "  state: [solid]\n",
    "  nsims: 1\n",
    "\n",
    "md:\n",
    "  pair_style: eam/fs\n",
    "  pair_coeff: \"* * /home/users/menonsqr/Repos/pytint/examples/ZrCu_EAM/ZrCu.eam.fs Zr Cu\"\n",
    "  timestep: 0.001\n",
    "  tdamp: 0.1\n",
    "  pdamp: 0.1\n",
    "  te: 25000\n",
    "  ts: 50000\n",
    "  \n",
    "queue:\n",
    "  scheduler: local\n",
    "  cores: 28\n",
    "  commands:\n",
    "    - source ~/.zghrc\n",
    "    - conda activate py3\n",
    "```\n",
    "\n",
    "It is very similar to a single species system apart from the two elements listed along with their mass. For multi-component systems, the `lattice` command will only take a LAMMPS data file as input. The atom types in the data file, in the `pair_coeff` command and in the `element` command **should be in the same order**. Once again, the calculations can be submitted from the terminal using,\n",
    "\n",
    "```\n",
    "tint -i input.yaml\n",
    "```\n",
    "\n",
    "After the calculation is over, we can compare the results."
   ]
  },
  {
   "cell_type": "code",
   "execution_count": 1,
   "id": "3b68c83a",
   "metadata": {},
   "outputs": [],
   "source": [
    "import numpy as np\n",
    "import matplotlib.pyplot as plt"
   ]
  },
  {
   "cell_type": "markdown",
   "id": "46cbfe88",
   "metadata": {},
   "source": [
    "The reference data from the publication listed above is provided in a data file."
   ]
  },
  {
   "cell_type": "code",
   "execution_count": 2,
   "id": "f3228cb0",
   "metadata": {},
   "outputs": [],
   "source": [
    "temp, zrcu, zr2cu = np.loadtxt(\"fe-zrcu.data\", unpack=True)"
   ]
  },
  {
   "cell_type": "markdown",
   "id": "5e69fb1d",
   "metadata": {},
   "source": [
    "The variation of free energy with temperature is read in for the ZrCu system."
   ]
  },
  {
   "cell_type": "code",
   "execution_count": 3,
   "id": "3733abee",
   "metadata": {},
   "outputs": [],
   "source": [
    "st1, sfe1, sferr1 = np.loadtxt(\"ZrCu/ts-ZrCu.data-300-0/temperature_sweep.dat\", unpack=True)\n"
   ]
  },
  {
   "cell_type": "code",
   "execution_count": 4,
   "id": "aeb8abb7",
   "metadata": {},
   "outputs": [
    {
     "data": {
      "text/plain": [
       "<matplotlib.legend.Legend at 0x7f5f1fd32d10>"
      ]
     },
     "execution_count": 4,
     "metadata": {},
     "output_type": "execute_result"
    },
    {
     "data": {
      "image/png": "[encoded data removed]",
      "text/plain": [
       "<Figure size 432x288 with 1 Axes>"
      ]
     },
     "metadata": {
      "needs_background": "light"
     },
     "output_type": "display_data"
    }
   ],
   "source": [
    "plt.plot(st1, sfe1, color=\"#03A9F4\", label=\"pytint\")\n",
    "plt.plot(temp, zrcu, 'o', color=\"#1A237E\", label=\"ref. data\")\n",
    "plt.xlabel(\"Temperature (K)\", fontsize=12)\n",
    "plt.ylabel(\"F (ev/atom)\", fontsize=12)\n",
    "plt.legend()"
   ]
  },
  {
   "cell_type": "code",
   "execution_count": 5,
   "id": "81e716f0",
   "metadata": {},
   "outputs": [
    {
     "data": {
      "text/plain": [
       "-5.351306265778339"
      ]
     },
     "execution_count": 5,
     "metadata": {},
     "output_type": "execute_result"
    }
   ],
   "source": [
    "arg = np.argsort(np.abs(st1-800))[0]\n",
    "sfe1[arg]"
   ]
  },
  {
   "cell_type": "markdown",
   "id": "84f53b48",
   "metadata": {},
   "source": [
    "The agreement is excellent. Now the free energy for the $\\mathrm{Zr}_2\\mathrm{Cu}$ is shown below."
   ]
  },
  {
   "cell_type": "code",
   "execution_count": 6,
   "id": "8e13b8fb",
   "metadata": {},
   "outputs": [],
   "source": [
    "st2, sfe2, sferr2 = np.loadtxt(\"Zr2Cu/ts-Zr2Cu.data-300-0/temperature_sweep.dat\", unpack=True)\n"
   ]
  },
  {
   "cell_type": "code",
   "execution_count": 7,
   "id": "778ad17e",
   "metadata": {},
   "outputs": [
    {
     "ename": "NameError",
     "evalue": "name 'st' is not defined",
     "output_type": "error",
     "traceback": [
      "\u001b[0;31m---------------------------------------------------------------------------\u001b[0m",
      "\u001b[0;31mNameError\u001b[0m                                 Traceback (most recent call last)",
      "\u001b[0;32m<ipython-input-7-489617385d6f>\u001b[0m in \u001b[0;36m<module>\u001b[0;34m()\u001b[0m\n\u001b[0;32m----> 1\u001b[0;31m \u001b[0mplt\u001b[0m\u001b[0;34m.\u001b[0m\u001b[0mplot\u001b[0m\u001b[0;34m(\u001b[0m\u001b[0mst\u001b[0m\u001b[0;34m,\u001b[0m \u001b[0msfe\u001b[0m\u001b[0;34m,\u001b[0m \u001b[0mcolor\u001b[0m\u001b[0;34m=\u001b[0m\u001b[0;34m\"#03A9F4\"\u001b[0m\u001b[0;34m,\u001b[0m \u001b[0mlabel\u001b[0m\u001b[0;34m=\u001b[0m\u001b[0;34m\"pytint\"\u001b[0m\u001b[0;34m)\u001b[0m\u001b[0;34m\u001b[0m\u001b[0;34m\u001b[0m\u001b[0m\n\u001b[0m\u001b[1;32m      2\u001b[0m \u001b[0mplt\u001b[0m\u001b[0;34m.\u001b[0m\u001b[0mplot\u001b[0m\u001b[0;34m(\u001b[0m\u001b[0mtemp\u001b[0m\u001b[0;34m,\u001b[0m \u001b[0mzr2cu\u001b[0m\u001b[0;34m,\u001b[0m \u001b[0;34m'o'\u001b[0m\u001b[0;34m,\u001b[0m \u001b[0mcolor\u001b[0m\u001b[0;34m=\u001b[0m\u001b[0;34m\"#1A237E\"\u001b[0m\u001b[0;34m,\u001b[0m \u001b[0mlabel\u001b[0m\u001b[0;34m=\u001b[0m\u001b[0;34m\"ref. data\"\u001b[0m\u001b[0;34m)\u001b[0m\u001b[0;34m\u001b[0m\u001b[0;34m\u001b[0m\u001b[0m\n\u001b[1;32m      3\u001b[0m \u001b[0mplt\u001b[0m\u001b[0;34m.\u001b[0m\u001b[0mxlabel\u001b[0m\u001b[0;34m(\u001b[0m\u001b[0;34m\"Temperature (K)\"\u001b[0m\u001b[0;34m,\u001b[0m \u001b[0mfontsize\u001b[0m\u001b[0;34m=\u001b[0m\u001b[0;36m12\u001b[0m\u001b[0;34m)\u001b[0m\u001b[0;34m\u001b[0m\u001b[0;34m\u001b[0m\u001b[0m\n\u001b[1;32m      4\u001b[0m \u001b[0mplt\u001b[0m\u001b[0;34m.\u001b[0m\u001b[0mylabel\u001b[0m\u001b[0;34m(\u001b[0m\u001b[0;34m\"F (ev/atom)\"\u001b[0m\u001b[0;34m,\u001b[0m \u001b[0mfontsize\u001b[0m\u001b[0;34m=\u001b[0m\u001b[0;36m12\u001b[0m\u001b[0;34m)\u001b[0m\u001b[0;34m\u001b[0m\u001b[0;34m\u001b[0m\u001b[0m\n\u001b[1;32m      5\u001b[0m \u001b[0mplt\u001b[0m\u001b[0;34m.\u001b[0m\u001b[0mlegend\u001b[0m\u001b[0;34m(\u001b[0m\u001b[0;34m)\u001b[0m\u001b[0;34m\u001b[0m\u001b[0;34m\u001b[0m\u001b[0m\n",
      "\u001b[0;31mNameError\u001b[0m: name 'st' is not defined"
     ]
    }
   ],
   "source": [
    "plt.plot(st, sfe, color=\"#03A9F4\", label=\"pytint\")\n",
    "plt.plot(temp, zr2cu, 'o', color=\"#1A237E\", label=\"ref. data\")\n",
    "plt.xlabel(\"Temperature (K)\", fontsize=12)\n",
    "plt.ylabel(\"F (ev/atom)\", fontsize=12)\n",
    "plt.legend()"
   ]
  },
  {
   "cell_type": "code",
   "execution_count": 8,
   "id": "e46216bb",
   "metadata": {},
   "outputs": [],
   "source": [
    "from pychromatic import Multiplot\n",
    "from pychromatic.colors import accent"
   ]
  },
  {
   "cell_type": "code",
   "execution_count": 10,
   "id": "57286a82",
   "metadata": {},
   "outputs": [
    {
     "data": {
      "image/png": "[encoded data removed]",
      "text/plain": [
       "<Figure size 298.879x239.103 with 1 Axes>"
      ]
     },
     "metadata": {
      "needs_background": "light"
     },
     "output_type": "display_data"
    }
   ],
   "source": [
    "mlt = Multiplot(width=300, ratio=0.8)\n",
    "\n",
    "mlt[0,0].plot(st1, sfe1, color=accent[\"pred\"], label=\"CuZr\")\n",
    "mlt[0,0].plot(temp, zrcu, 'o',\n",
    "        color=accent[\"pred\"], markeredgecolor=accent[\"lgrey\"])\n",
    "\n",
    "mlt[0,0].plot(st2, sfe2, color=accent[\"pblue\"], label=r\"$\\mathrm{CuZr}_2$\")\n",
    "mlt[0,0].plot(temp, zr2cu, 'o',\n",
    "        color=accent[\"pblue\"], markeredgecolor=accent[\"lgrey\"])\n",
    "\n",
    "mlt[0,0].set_xlim(250, 950)\n",
    "#mlt[0,1].set_xlim(250, 950)\n",
    "ticks = np.linspace(300, 900, 5)\n",
    "mlt[0,0].set_xticks(ticks)\n",
    "#mlt[0,1].set_xticks(ticks)\n",
    "mlt[0,0].set_xticklabels([\"%d\"%x for x in ticks], fontsize=12)\n",
    "#mlt[0,1].set_xticklabels([\"%d\"%x for x in ticks], fontsize=12)\n",
    "\n",
    "mlt[0,0].set_ylim(-6, -5)\n",
    "#mlt[0,1].set_ylim(-6, -5.5)\n",
    "ticks = np.linspace(-6, -5, 5)\n",
    "mlt[0,0].set_yticks(ticks)\n",
    "mlt[0,0].set_yticklabels([\"%.1f\"%x for x in ticks], fontsize=12)\n",
    "\n",
    "#ticks = np.linspace(-6, -5.5, 5)\n",
    "#mlt[0,1].set_yticks(ticks)\n",
    "#mlt[0,1].set_yticklabels([\"%.1f\"%x for x in ticks], fontsize=12)\n",
    "mlt[0,0].legend()\n",
    "mlt[0,0].set_xlabel(\"Temperature (K)\", fontsize=12)\n",
    "#mlt[0,1].set_xlabel(\"Temperature (K)\", fontsize=12)\n",
    "mlt[0,0].set_ylabel(\"G (eV/atom)\", fontsize=12)\n",
    "#mlt[0,1].set_ylabel(\"G (eV/atom)\", fontsize=12)\n",
    "#mlt[0,0].set_title(\"(a)\", loc=\"left\", fontsize=12)\n",
    "#mlt[0,1].set_title(\"(b)\", loc=\"left\", fontsize=12)\n",
    "plt.savefig(\"cuzr_fe.png\", dpi=300, bbox_inches=\"tight\")"
   ]
  }
 ],
 "metadata": {
  "kernelspec": {
   "display_name": "py3",
   "language": "python",
   "name": "py3"
  },
  "language_info": {
   "codemirror_mode": {
    "name": "ipython",
    "version": 3
   },
   "file_extension": ".py",
   "mimetype": "text/x-python",
   "name": "python",
   "nbconvert_exporter": "python",
   "pygments_lexer": "ipython3",
   "version": "3.7.9"
  }
 },
 "nbformat": 4,
 "nbformat_minor": 5
}
