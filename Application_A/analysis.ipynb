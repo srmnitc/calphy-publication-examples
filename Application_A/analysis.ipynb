{
 "cells": [
  {
   "cell_type": "markdown",
   "id": "6f825388",
   "metadata": {},
   "source": [
    "# Application A"
   ]
  },
  {
   "cell_type": "code",
   "execution_count": 18,
   "id": "2a9c4a17",
   "metadata": {},
   "outputs": [],
   "source": [
    "import yaml\n",
    "import copy\n",
    "import os\n",
    "import numpy as np\n",
    "import matplotlib.pyplot as plt\n",
    "from pychromatic import Multiplot\n",
    "from pychromatic.colors import accent"
   ]
  },
  {
   "cell_type": "markdown",
   "id": "1653becd",
   "metadata": {},
   "source": [
    "## Size convergence"
   ]
  },
  {
   "cell_type": "markdown",
   "id": "66604082",
   "metadata": {},
   "source": [
    "Create input files"
   ]
  },
  {
   "cell_type": "code",
   "execution_count": 2,
   "id": "8d9beb2e",
   "metadata": {},
   "outputs": [],
   "source": [
    "with open(\"input.yaml\",\"r\") as fin:\n",
    "    inp = yaml.load(fin, Loader=yaml.FullLoader)"
   ]
  },
  {
   "cell_type": "markdown",
   "id": "a3769659",
   "metadata": {},
   "source": [
    "Modify the potential path"
   ]
  },
  {
   "cell_type": "code",
   "execution_count": 3,
   "id": "e6f78778",
   "metadata": {},
   "outputs": [],
   "source": [
    "potential = os.path.join(os.getcwd(), \"Fe.eam\")\n",
    "inp[\"md\"][\"pair_coeff\"] = \"* * %s\"%potential"
   ]
  },
  {
   "cell_type": "code",
   "execution_count": 4,
   "id": "4bc568f9",
   "metadata": {},
   "outputs": [],
   "source": [
    "for i in range(3, 16):\n",
    "    inp['calculations'][0]['repeat'] = [i,i,i]\n",
    "    folder = os.path.join(os.getcwd(), \"size_%i\"%i)\n",
    "    os.mkdir(folder)\n",
    "    inpfile = os.path.join(folder, \"input.yaml\")\n",
    "    with open(inpfile, \"w\") as fout:\n",
    "        yaml.dump(inp, fout)"
   ]
  },
  {
   "cell_type": "markdown",
   "id": "178e5124",
   "metadata": {},
   "source": [
    "Gather results"
   ]
  },
  {
   "cell_type": "code",
   "execution_count": 5,
   "id": "e7876740",
   "metadata": {},
   "outputs": [],
   "source": [
    "natoms = []\n",
    "fe = []\n",
    "\n",
    "for i in range(4, 16):\n",
    "    result_file = os.path.join(os.getcwd(), \"size_%i\"%i, \"fe-BCC-1000-0/report.yaml\")\n",
    "    with open(result_file, \"r\") as fin:\n",
    "        result = yaml.load(fin, Loader=yaml.FullLoader)\n",
    "    natoms.append(i**3*2)\n",
    "    fe.append(result[\"results\"][\"free_energy\"])"
   ]
  },
  {
   "cell_type": "code",
   "execution_count": 16,
   "id": "e59bacb1",
   "metadata": {},
   "outputs": [
    {
     "data": {
      "text/plain": [
       "Text(0, 0.5, '$\\\\Delta G$ (eV/atom)')"
      ]
     },
     "execution_count": 16,
     "metadata": {},
     "output_type": "execute_result"
    },
    {
     "data": {
      "image/png": "[encoded data removed]",
      "text/plain": [
       "<Figure size 348.692x215.504 with 1 Axes>"
      ]
     },
     "metadata": {
      "needs_background": "light"
     },
     "output_type": "display_data"
    }
   ],
   "source": [
    "mlt = Multiplot(width=350)\n",
    "mlt[0, 0].plot(natoms, fe, \"-\", color=accent[\"pred\"])\n",
    "mlt[0, 0].plot(natoms, fe, \"o\", color=accent[\"pred\"],\n",
    "              markeredgecolor=accent[\"dgrey\"])\n",
    "mlt[0, 0].set_xlabel(\"N\", fontsize=12)\n",
    "mlt[0, 0].set_ylabel(r\"$\\Delta G$ (eV/atom)\", fontsize=12)"
   ]
  },
  {
   "cell_type": "markdown",
   "id": "1602232d",
   "metadata": {},
   "source": [
    "Get value at thermodynamic limit"
   ]
  },
  {
   "cell_type": "code",
   "execution_count": 21,
   "id": "653d65a9",
   "metadata": {},
   "outputs": [],
   "source": [
    "natoms = np.array(natoms)\n",
    "fe = np.array(fe)\n",
    "\n",
    "fit = np.polyfit(1/natoms, fe, 1)\n",
    "one_over_natoms = 1/natoms\n",
    "one_over_natoms_fit = np.linspace(min(one_over_natoms), \n",
    "                                  max(one_over_natoms), 1000)\n",
    "fe_fit = np.polyval(fit, one_over_natoms_fit)"
   ]
  },
  {
   "cell_type": "code",
   "execution_count": 31,
   "id": "8a9091f7",
   "metadata": {},
   "outputs": [
    {
     "data": {
      "text/plain": [
       "Text(0, 0.5, '$G$ (eV/atom)')"
      ]
     },
     "execution_count": 31,
     "metadata": {},
     "output_type": "execute_result"
    },
    {
     "data": {
      "image/png": "[encoded data removed]",
      "text/plain": [
       "<Figure size 348.692x215.504 with 1 Axes>"
      ]
     },
     "metadata": {
      "needs_background": "light"
     },
     "output_type": "display_data"
    }
   ],
   "source": [
    "mlt = Multiplot(width=350)\n",
    "mlt[0, 0].plot(one_over_natoms_fit, fe_fit, \"-\", color=accent[\"pred\"])\n",
    "mlt[0, 0].plot(one_over_natoms, fe, \"o\", color=accent[\"pred\"],\n",
    "              markeredgecolor=accent[\"dgrey\"])\n",
    "mlt[0, 0].set_xlabel(\"1/N\", fontsize=12)\n",
    "mlt[0, 0].set_ylabel(r\"$G$ (eV/atom)\", fontsize=12)"
   ]
  },
  {
   "cell_type": "markdown",
   "id": "68944402",
   "metadata": {},
   "source": [
    "At thermodynamic limit"
   ]
  },
  {
   "cell_type": "code",
   "execution_count": 25,
   "id": "88c9c967",
   "metadata": {},
   "outputs": [
    {
     "data": {
      "text/plain": [
       "array([-0.96040197, -4.60859334])"
      ]
     },
     "execution_count": 25,
     "metadata": {},
     "output_type": "execute_result"
    }
   ],
   "source": [
    "fit"
   ]
  },
  {
   "cell_type": "code",
   "execution_count": 26,
   "id": "ce0d9bff",
   "metadata": {},
   "outputs": [
    {
     "data": {
      "text/plain": [
       "-4.608593337189308"
      ]
     },
     "execution_count": 26,
     "metadata": {},
     "output_type": "execute_result"
    }
   ],
   "source": [
    "fe_inf = fit[1]\n",
    "fe_inf"
   ]
  },
  {
   "cell_type": "markdown",
   "id": "36f3d304",
   "metadata": {},
   "source": [
    "Replot "
   ]
  },
  {
   "cell_type": "code",
   "execution_count": 32,
   "id": "2762fffe",
   "metadata": {},
   "outputs": [
    {
     "data": {
      "image/png": "[encoded data removed]",
      "text/plain": [
       "<Figure size 348.692x215.504 with 1 Axes>"
      ]
     },
     "metadata": {
      "needs_background": "light"
     },
     "output_type": "display_data"
    }
   ],
   "source": [
    "mlt = Multiplot(width=350)\n",
    "mlt[0, 0].plot(1/one_over_natoms_fit, fe_inf-fe_fit, \"-\", color=accent[\"pred\"])\n",
    "mlt[0, 0].plot(natoms, fe_inf-fe, \"o\", color=accent[\"pred\"],\n",
    "              markeredgecolor=accent[\"dgrey\"])\n",
    "mlt[0, 0].set_xlabel(\"N\", fontsize=12)\n",
    "mlt[0, 0].set_ylabel(r\"$G(\\infty) - G(N)$ (eV/atom)\", fontsize=12)\n",
    "mlt[0,0].set_xscale('log')\n",
    "mlt[0,0].set_yscale('log')"
   ]
  },
  {
   "cell_type": "markdown",
   "id": "31521c15",
   "metadata": {},
   "source": [
    "## Time convergence"
   ]
  },
  {
   "cell_type": "markdown",
   "id": "0a7912cc",
   "metadata": {},
   "source": [
    "Create input files"
   ]
  },
  {
   "cell_type": "code",
   "execution_count": 49,
   "id": "0975655e",
   "metadata": {},
   "outputs": [],
   "source": [
    "times = np.array([1000, 1500, 2000, 2500, 3000, \n",
    "                  4000, 5000, 8000, 10000, 15000, \n",
    "                  25000, 50000, 75000, 100000, 500000, \n",
    "                  1000000, 2000000, 3000000, 4000000, 5000000,\n",
    "                  6000000, 7000000, 8000000])"
   ]
  },
  {
   "cell_type": "code",
   "execution_count": 42,
   "id": "7dd6546e",
   "metadata": {},
   "outputs": [],
   "source": [
    "with open(\"input.yaml\",\"r\") as fin:\n",
    "    inp = yaml.load(fin, Loader=yaml.Full.icams.rub.deLoader)"
   ]
  },
  {
   "cell_type": "markdown",
   "id": "c0331a28",
   "metadata": {},
   "source": [
    "Modify the potential path"
   ]
  },
  {
   "cell_type": "code",
   "execution_count": 43,
   "id": "17140bce",
   "metadata": {},
   "outputs": [],
   "source": [
    "potential = os.path.join(os.getcwd(), \"Fe.eam\")\n",
    "inp[\"md\"][\"pair_coeff\"] = \"* * %s\"%potential"
   ]
  },
  {
   "cell_type": "code",
   "execution_count": 44,
   "id": "c3cbe2f5",
   "metadata": {},
   "outputs": [],
   "source": [
    "for count, time in enumerate(times):\n",
    "    inp['calculations'][0]['repeat'] = [15, 15, 15]\n",
    "    inp[\"md\"][\"ts\"] = int(time)\n",
    "    folder = os.path.join(os.getcwd(), \"time_%d\"%count)\n",
    "    os.mkdir(folder)\n",
    "    inpfile = os.path.join(folder, \"input.yaml\")\n",
    "    with open(inpfile, \"w\") as fout:\n",
    "        yaml.dump(inp, fout)"
   ]
  },
  {
   "cell_type": "markdown",
   "id": "5a29fd50",
   "metadata": {},
   "source": [
    "gather results"
   ]
  },
  {
   "cell_type": "code",
   "execution_count": 51,
   "id": "43f33f5e",
   "metadata": {},
   "outputs": [],
   "source": [
    "fe = []\n",
    "\n",
    "for count, time in enumerate(times):\n",
    "    result_file = os.path.join(os.getcwd(), \"time_%d\"%count, \"fe-BCC-1000-0/report.yaml\")\n",
    "    with open(result_file, \"r\") as fin:\n",
    "        result = yaml.load(fin, Loader=yaml.FullLoader)\n",
    "    fe.append(result[\"results\"][\"free_energy\"])"
   ]
  },
  {
   "cell_type": "code",
   "execution_count": 52,
   "id": "aa5b2774",
   "metadata": {},
   "outputs": [],
   "source": [
    "time_in_ps = times*0.001*1000"
   ]
  },
  {
   "cell_type": "code",
   "execution_count": 60,
   "id": "cab50486",
   "metadata": {},
   "outputs": [
    {
     "data": {
      "text/plain": [
       "Text(0, 0.5, '$G(N=6750)$ (eV/atom)')"
      ]
     },
     "execution_count": 60,
     "metadata": {},
     "output_type": "execute_result"
    },
    {
     "data": {
      "image/png": "[encoded data removed]",
      "text/plain": [
       "<Figure size 348.692x215.504 with 1 Axes>"
      ]
     },
     "metadata": {
      "needs_background": "light"
     },
     "output_type": "display_data"
    }
   ],
   "source": [
    "mlt = Multiplot(width=350)\n",
    "mlt[0, 0].plot(time_in_ps, fe, \"o\", color=accent[\"pred\"],\n",
    "              markeredgecolor=accent[\"dgrey\"])\n",
    "mlt[0, 0].set_xlabel(\"N\", fontsize=12)\n",
    "mlt[0, 0].set_ylabel(r\"$G(\\infty) - G(N)$ (eV/atom)\", fontsize=12)\n",
    "mlt[0,0].set_xscale('log')\n",
    "mlt[0,0].axhline(fe_inf, color=accent[\"dred\"], ls=\"dashed\", label=r\"$G(\\infty)$\")\n",
    "mlt[0,0].set_xlabel(r\"$t_{sw}$ (ps)\", fontsize=12)\n",
    "mlt[0,0].set_ylabel(r\"$G(N=6750)$ (eV/atom)\", fontsize=10)"
   ]
  }
 ],
 "metadata": {
  "kernelspec": {
   "display_name": "py3",
   "language": "python",
   "name": "py3"
  },
  "language_info": {
   "codemirror_mode": {
    "name": "ipython",
    "version": 3
   },
   "file_extension": ".py",
   "mimetype": "text/x-python",
   "name": "python",
   "nbconvert_exporter": "python",
   "pygments_lexer": "ipython3",
   "version": "3.7.9"
  }
 },
 "nbformat": 4,
 "nbformat_minor": 5
}
