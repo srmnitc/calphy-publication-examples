{
 "cells": [
  {
   "cell_type": "markdown",
   "id": "da88e4b0",
   "metadata": {},
   "source": [
    "# Application A"
   ]
  },
  {
   "cell_type": "code",
   "execution_count": 1,
   "id": "4132f292",
   "metadata": {},
   "outputs": [],
   "source": [
    "import yaml\n",
    "import copy\n",
    "import os"
   ]
  },
  {
   "cell_type": "markdown",
   "id": "5e2f7f03",
   "metadata": {},
   "source": [
    "Create input files"
   ]
  },
  {
   "cell_type": "code",
   "execution_count": 2,
   "id": "0a68d2a9",
   "metadata": {},
   "outputs": [],
   "source": [
    "with open(\"input.yaml\",\"r\") as fin:\n",
    "    inp = yaml.load(fin, Loader=yaml.FullLoader)"
   ]
  },
  {
   "cell_type": "markdown",
   "id": "b2a83f1e",
   "metadata": {},
   "source": [
    "Modify the potential path"
   ]
  },
  {
   "cell_type": "code",
   "execution_count": 3,
   "id": "b793e332",
   "metadata": {},
   "outputs": [],
   "source": [
    "potential = os.path.join(os.getcwd(), \"Fe.eam\")\n",
    "inp[\"md\"][\"pair_coeff\"] = \"* * %s\"%potential"
   ]
  },
  {
   "cell_type": "code",
   "execution_count": 4,
   "id": "eee8f1a9",
   "metadata": {},
   "outputs": [],
   "source": [
    "for i in range(3, 16):\n",
    "    inp['calculations'][0]['repeat'] = [i,i,i]\n",
    "    folder = os.path.join(os.getcwd(), \"size_%i\"%i)\n",
    "    os.mkdir(folder)\n",
    "    inpfile = os.path.join(folder, \"input.yaml\")\n",
    "    with open(inpfile, \"w\") as fout:\n",
    "        yaml.dump(inp, fout)"
   ]
  },
  {
   "cell_type": "markdown",
   "id": "b1351f51",
   "metadata": {},
   "source": []
  }
 ],
 "metadata": {
  "kernelspec": {
   "display_name": "py3",
   "language": "python",
   "name": "py3"
  },
  "language_info": {
   "codemirror_mode": {
    "name": "ipython",
    "version": 3
   },
   "file_extension": ".py",
   "mimetype": "text/x-python",
   "name": "python",
   "nbconvert_exporter": "python",
   "pygments_lexer": "ipython3",
   "version": "3.7.9"
  }
 },
 "nbformat": 4,
 "nbformat_minor": 5
}
